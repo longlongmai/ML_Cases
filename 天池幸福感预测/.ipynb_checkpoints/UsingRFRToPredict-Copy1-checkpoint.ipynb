{
 "cells": [
  {
   "cell_type": "code",
   "execution_count": 2,
   "metadata": {},
   "outputs": [],
   "source": [
    "import pandas as pd\n",
    "import numpy as np\n",
    "import matplotlib.pyplot as plt\n",
    "# from sklearn.metrics import mean_squared_error as MSE\n",
    "# from sklearn.model_selection import KFold\n",
    "# from sklearn.model_selection import train_test_split\n",
    "from sklearn.model_selection import GridSearchCV\n",
    "from sklearn.model_selection import cross_val_score\n",
    "from sklearn.ensemble import RandomForestRegressor as RFR"
   ]
  },
  {
   "cell_type": "code",
   "execution_count": 3,
   "metadata": {
    "scrolled": true
   },
   "outputs": [],
   "source": [
    "train_data = pd.read_csv('happiness_train_complete.csv', encoding='gbk')\n",
    "test_data =pd.read_csv('happiness_test_complete.csv',encoding='gbk')\n",
    "# train_data.shape"
   ]
  },
  {
   "cell_type": "code",
   "execution_count": 4,
   "metadata": {},
   "outputs": [],
   "source": [
    "# data.info(verbose=True, null_counts=True)"
   ]
  },
  {
   "cell_type": "code",
   "execution_count": 5,
   "metadata": {},
   "outputs": [
    {
     "data": {
      "text/plain": [
       " 4    4818\n",
       " 5    1410\n",
       " 3    1159\n",
       " 2     497\n",
       " 1     104\n",
       "-8      12\n",
       "Name: happiness, dtype: int64"
      ]
     },
     "execution_count": 5,
     "metadata": {},
     "output_type": "execute_result"
    }
   ],
   "source": [
    "# 查看标签值\n",
    "# read_data['happiness'].unique()\n",
    "train_data['happiness'].value_counts()"
   ]
  },
  {
   "cell_type": "code",
   "execution_count": 6,
   "metadata": {},
   "outputs": [],
   "source": [
    "train_data['happiness'].replace(-8, 3,inplace =True)"
   ]
  },
  {
   "cell_type": "code",
   "execution_count": 7,
   "metadata": {},
   "outputs": [],
   "source": [
    "# target_col = 'happiness'\n",
    "# train_data_copy = train_data.copy()\n",
    "# target = train_data_copy[target_col]\n",
    "\n",
    "# del train_data_copy[target_col]\n",
    "\n",
    "# train_shape = train_data_copy.shape[0]\n",
    "train_data = train_data[train_data[\"happiness\"]!=-8].reset_index(drop=True)#注意drop=True\n",
    "# print('train shape:',train_data.shape)\n",
    "data = pd.concat([train_data, test_data],axis=0)\n",
    "data.index = range(data.shape[0])\n",
    "# train_shape\n",
    "# target.unique()\n",
    "# data.shape"
   ]
  },
  {
   "cell_type": "code",
   "execution_count": 8,
   "metadata": {},
   "outputs": [],
   "source": [
    "# train_data = train_data[train_data[\"happiness\"]!=-8].reset_index(drop=True)#注意drop=True\n",
    "# print('train shape:',train_data.shape)"
   ]
  },
  {
   "cell_type": "code",
   "execution_count": 9,
   "metadata": {},
   "outputs": [
    {
     "name": "stdout",
     "output_type": "stream",
     "text": [
      "<class 'pandas.core.frame.DataFrame'>\n",
      "Int64Index: 10968 entries, 0 to 2967\n",
      "Data columns (total 139 columns):\n",
      "id                      10968 non-null int64\n",
      "survey_type             10968 non-null int64\n",
      "province                10968 non-null int64\n",
      "city                    10968 non-null int64\n",
      "county                  10968 non-null int64\n",
      "survey_time             10968 non-null object\n",
      "gender                  10968 non-null int64\n",
      "birth                   10968 non-null int64\n",
      "nationality             10968 non-null int64\n",
      "religion                10968 non-null int64\n",
      "religion_freq           10968 non-null int64\n",
      "edu                     10968 non-null int64\n",
      "edu_other               6 non-null object\n",
      "edu_status              9399 non-null float64\n",
      "edu_yr                  8212 non-null float64\n",
      "income                  10968 non-null int64\n",
      "political               10968 non-null int64\n",
      "join_party              1126 non-null float64\n",
      "floor_area              10968 non-null float64\n",
      "property_0              10968 non-null int64\n",
      "property_1              10968 non-null int64\n",
      "property_2              10968 non-null int64\n",
      "property_3              10968 non-null int64\n",
      "property_4              10968 non-null int64\n",
      "property_5              10968 non-null int64\n",
      "property_6              10968 non-null int64\n",
      "property_7              10968 non-null int64\n",
      "property_8              10968 non-null int64\n",
      "property_other          89 non-null object\n",
      "height_cm               10968 non-null int64\n",
      "weight_jin              10968 non-null int64\n",
      "health                  10968 non-null int64\n",
      "health_problem          10968 non-null int64\n",
      "depression              10968 non-null int64\n",
      "hukou                   10968 non-null int64\n",
      "hukou_loc               10964 non-null float64\n",
      "media_1                 10968 non-null int64\n",
      "media_2                 10968 non-null int64\n",
      "media_3                 10968 non-null int64\n",
      "media_4                 10968 non-null int64\n",
      "media_5                 10968 non-null int64\n",
      "media_6                 10968 non-null int64\n",
      "leisure_1               10968 non-null int64\n",
      "leisure_2               10968 non-null int64\n",
      "leisure_3               10968 non-null int64\n",
      "leisure_4               10968 non-null int64\n",
      "leisure_5               10968 non-null int64\n",
      "leisure_6               10968 non-null int64\n",
      "leisure_7               10968 non-null int64\n",
      "leisure_8               10968 non-null int64\n",
      "leisure_9               10968 non-null int64\n",
      "leisure_10              10968 non-null int64\n",
      "leisure_11              10968 non-null int64\n",
      "leisure_12              10968 non-null int64\n",
      "socialize               10968 non-null int64\n",
      "relax                   10968 non-null int64\n",
      "learn                   10968 non-null int64\n",
      "social_neighbor         9871 non-null float64\n",
      "social_friend           9871 non-null float64\n",
      "socia_outing            10968 non-null int64\n",
      "equity                  10968 non-null int64\n",
      "class                   10968 non-null int64\n",
      "class_10_before         10968 non-null int64\n",
      "class_10_after          10968 non-null int64\n",
      "class_14                10968 non-null int64\n",
      "work_exper              10968 non-null int64\n",
      "work_status             4029 non-null float64\n",
      "work_yr                 4029 non-null float64\n",
      "work_type               4030 non-null float64\n",
      "work_manage             4030 non-null float64\n",
      "insur_1                 10968 non-null int64\n",
      "insur_2                 10968 non-null int64\n",
      "insur_3                 10968 non-null int64\n",
      "insur_4                 10968 non-null int64\n",
      "family_income           10967 non-null float64\n",
      "family_m                10968 non-null int64\n",
      "family_status           10968 non-null int64\n",
      "house                   10968 non-null int64\n",
      "car                     10968 non-null int64\n",
      "invest_0                10968 non-null int64\n",
      "invest_1                10968 non-null int64\n",
      "invest_2                10968 non-null int64\n",
      "invest_3                10968 non-null int64\n",
      "invest_4                10968 non-null int64\n",
      "invest_5                10968 non-null int64\n",
      "invest_6                10968 non-null int64\n",
      "invest_7                10968 non-null int64\n",
      "invest_8                10968 non-null int64\n",
      "invest_other            45 non-null object\n",
      "son                     10968 non-null int64\n",
      "daughter                10968 non-null int64\n",
      "minor_child             9520 non-null float64\n",
      "marital                 10968 non-null int64\n",
      "marital_1st             9839 non-null float64\n",
      "s_birth                 8601 non-null float64\n",
      "marital_now             8521 non-null float64\n",
      "s_edu                   8601 non-null float64\n",
      "s_political             8601 non-null float64\n",
      "s_hukou                 8601 non-null float64\n",
      "s_income                8601 non-null float64\n",
      "s_work_exper            8601 non-null float64\n",
      "s_work_status           3524 non-null float64\n",
      "s_work_type             3524 non-null float64\n",
      "f_birth                 10968 non-null int64\n",
      "f_edu                   10968 non-null int64\n",
      "f_political             10968 non-null int64\n",
      "f_work_14               10968 non-null int64\n",
      "m_birth                 10968 non-null int64\n",
      "m_edu                   10968 non-null int64\n",
      "m_political             10968 non-null int64\n",
      "m_work_14               10968 non-null int64\n",
      "status_peer             10968 non-null int64\n",
      "status_3_before         10968 non-null int64\n",
      "view                    10968 non-null int64\n",
      "inc_ability             10968 non-null int64\n",
      "inc_exp                 10968 non-null float64\n",
      "trust_1                 10968 non-null int64\n",
      "trust_2                 10968 non-null int64\n",
      "trust_3                 10968 non-null int64\n",
      "trust_4                 10968 non-null int64\n",
      "trust_5                 10968 non-null int64\n",
      "trust_6                 10968 non-null int64\n",
      "trust_7                 10968 non-null int64\n",
      "trust_8                 10968 non-null int64\n",
      "trust_9                 10968 non-null int64\n",
      "trust_10                10968 non-null int64\n",
      "trust_11                10968 non-null int64\n",
      "trust_12                10968 non-null int64\n",
      "trust_13                10968 non-null int64\n",
      "neighbor_familiarity    10968 non-null int64\n",
      "public_service_1        10968 non-null int64\n",
      "public_service_2        10968 non-null float64\n",
      "public_service_3        10968 non-null int64\n",
      "public_service_4        10968 non-null int64\n",
      "public_service_5        10968 non-null float64\n",
      "public_service_6        10968 non-null int64\n",
      "public_service_7        10968 non-null int64\n",
      "public_service_8        10968 non-null int64\n",
      "public_service_9        10968 non-null int64\n",
      "dtypes: float64(26), int64(109), object(4)\n",
      "memory usage: 11.7+ MB\n"
     ]
    }
   ],
   "source": [
    "# 查看数据缺失信息\n",
    "data.info(verbose=True, null_counts=True)"
   ]
  },
  {
   "cell_type": "code",
   "execution_count": 9,
   "metadata": {},
   "outputs": [],
   "source": [
    "# 处理时间序列 data['survey_time'] ---删除\n",
    "# 但可计算测试者年龄\n",
    "data['survey_time'] = pd.to_datetime(data['survey_time'],format='%Y-%m-%d %H:%M:%S')\n",
    "data['age'] = data['survey_time'].dt.year - data['birth']\n",
    "data = data.drop(['survey_time'], axis = 1)# data= data.drop(cloumns = ['survey_time])"
   ]
  },
  {
   "cell_type": "code",
   "execution_count": 10,
   "metadata": {},
   "outputs": [
    {
     "data": {
      "text/plain": [
       "(10968, 140)"
      ]
     },
     "execution_count": 10,
     "metadata": {},
     "output_type": "execute_result"
    }
   ],
   "source": [
    "data.shape"
   ]
  },
  {
   "cell_type": "code",
   "execution_count": 11,
   "metadata": {},
   "outputs": [],
   "source": [
    "# edu_other edu_status edu_yr 缺失值太多直接删除\n",
    "data = data.drop(['edu_other', 'edu_status', 'edu_yr'], axis= 1)"
   ]
  },
  {
   "cell_type": "code",
   "execution_count": 12,
   "metadata": {},
   "outputs": [],
   "source": [
    "# 入党时间 join_party\n",
    "data['join_party'] = data['join_party'].map(lambda x:0 if pd.isnull(x) else 1)\n",
    "# data['join_party']"
   ]
  },
  {
   "cell_type": "code",
   "execution_count": 13,
   "metadata": {},
   "outputs": [],
   "source": [
    "# property_other 房产登记状况\n",
    "# data.loc[data['property_other'].notnull(),'property_other']\n",
    "data['property_other'] = data['property_other'].map(lambda x:0 if pd.isnull(x) else 1)"
   ]
  },
  {
   "cell_type": "code",
   "execution_count": 14,
   "metadata": {},
   "outputs": [],
   "source": [
    "# 户口登记情况\n",
    "# data['hukou_loc'].value_counts()\n",
    "# data['hukou_loc'].value_counts().argmax() 众数\n",
    "data['hukou_loc'] = data['hukou_loc'].fillna(data['hukou_loc'].value_counts().idxmax())"
   ]
  },
  {
   "cell_type": "code",
   "execution_count": 15,
   "metadata": {},
   "outputs": [],
   "source": [
    "# social_neighbor social_friend 与邻居、朋友的 社交时长\n",
    "# data.loc[:,['social_neighbor','social_friend']]\n",
    "data['social_neighbor'] = data['social_neighbor'].fillna(data['social_neighbor'].value_counts().idxmax())\n",
    "data['social_friend'] = data['social_friend'].fillna(data['social_friend'].value_counts().idxmax())"
   ]
  },
  {
   "cell_type": "code",
   "execution_count": 16,
   "metadata": {},
   "outputs": [],
   "source": [
    "# work_... 工作状况\n",
    "# data[['work_status','work_yr','work_type','work_manage']]\n",
    "# data.loc[:,['work_status','work_yr','work_type','work_manage']]\n",
    "data['work_status'] = data['work_status'].fillna(0)\n",
    "data['work_yr']     = data['work_yr'].fillna(0)\n",
    "data['work_type']   = data['work_type'].fillna(0)\n",
    "data['work_manage'] = data['work_manage'].fillna(0)"
   ]
  },
  {
   "cell_type": "code",
   "execution_count": 17,
   "metadata": {},
   "outputs": [],
   "source": [
    "# family_income 家庭收入\n",
    "data['family_income'] = data['family_income'].fillna(data['family_income'].median())"
   ]
  },
  {
   "cell_type": "code",
   "execution_count": 18,
   "metadata": {},
   "outputs": [],
   "source": [
    "# invest_other\n",
    "# data['invest_other']\n",
    "data['invest_other'] = data['invest_other'].map(lambda x:0 if pd.isnull(x) else 1)"
   ]
  },
  {
   "cell_type": "code",
   "execution_count": 19,
   "metadata": {},
   "outputs": [],
   "source": [
    "# minor_child 有几个18岁以下的子女\n",
    "# data['minor_child'].value_counts()\n",
    "data['minor_child'] = data['minor_child'].fillna(data['minor_child'].value_counts().argmax())"
   ]
  },
  {
   "cell_type": "code",
   "execution_count": 20,
   "metadata": {},
   "outputs": [],
   "source": [
    "# marital_1st 首婚那年\n",
    "# s_brith 配偶那一年生的\n",
    "# marital_now 和目前配偶什么时候结婚\n",
    "data[['marital_1st','s_birth','marital_now']]= data[['marital_1st','s_birth','marital_now']].fillna(0)"
   ]
  },
  {
   "cell_type": "code",
   "execution_count": 21,
   "metadata": {},
   "outputs": [],
   "source": [
    "# 伴侣各方面情况 s_edu s_politicla s_hukou s_incomm ...\n",
    "data['s_edu']         = data['s_edu'].fillna(0)\n",
    "data['s_hukou']       = data['s_hukou'].fillna(0)\n",
    "data['s_income']      = data['s_income'].fillna(0)\n",
    "data['s_political']   = data['s_political'].fillna(0)\n",
    "data['s_work_exper']  = data['s_work_exper'].fillna(0)\n",
    "data['s_work_status'] = data['s_work_status'].fillna(0)\n",
    "data['s_work_type']   = data['s_work_type'].fillna(0)"
   ]
  },
  {
   "cell_type": "code",
   "execution_count": 23,
   "metadata": {},
   "outputs": [],
   "source": [
    "# data.info(verbose=True, null_counts=True)\n",
    "# data.head()\n",
    "# test_id = data[train_shape:]['id']\n",
    "data = data.drop(['id'], axis =1)"
   ]
  },
  {
   "cell_type": "code",
   "execution_count": 25,
   "metadata": {},
   "outputs": [],
   "source": [
    "# data.info(verbose=True, null_counts=True)"
   ]
  },
  {
   "cell_type": "code",
   "execution_count": 40,
   "metadata": {},
   "outputs": [
    {
     "data": {
      "text/plain": [
       "(8000, 135)"
      ]
     },
     "execution_count": 40,
     "metadata": {},
     "output_type": "execute_result"
    }
   ],
   "source": [
    "train_data = data[:8000]\n",
    "train_data.shape\n",
    "# train_data.to_csv('train_data.csv',columns = data.columns, index =None)"
   ]
  },
  {
   "cell_type": "code",
   "execution_count": 37,
   "metadata": {},
   "outputs": [
    {
     "ename": "ValueError",
     "evalue": "labels ['happiness'] not contained in axis",
     "output_type": "error",
     "traceback": [
      "\u001b[0;31m---------------------------------------------------------------------------\u001b[0m",
      "\u001b[0;31mValueError\u001b[0m                                Traceback (most recent call last)",
      "\u001b[0;32m<ipython-input-37-cf2f88bd0408>\u001b[0m in \u001b[0;36m<module>\u001b[0;34m\u001b[0m\n\u001b[0;32m----> 1\u001b[0;31m \u001b[0mdata\u001b[0m \u001b[0;34m=\u001b[0m \u001b[0mdata\u001b[0m\u001b[0;34m.\u001b[0m\u001b[0mdrop\u001b[0m\u001b[0;34m(\u001b[0m\u001b[0;34m'happiness'\u001b[0m\u001b[0;34m,\u001b[0m \u001b[0maxis\u001b[0m \u001b[0;34m=\u001b[0m\u001b[0;36m1\u001b[0m\u001b[0;34m)\u001b[0m\u001b[0;34m\u001b[0m\u001b[0;34m\u001b[0m\u001b[0m\n\u001b[0m\u001b[1;32m      2\u001b[0m \u001b[0mtest_data\u001b[0m \u001b[0;34m=\u001b[0m \u001b[0mdata\u001b[0m\u001b[0;34m[\u001b[0m\u001b[0;36m8000\u001b[0m\u001b[0;34m:\u001b[0m\u001b[0;34m]\u001b[0m\u001b[0;34m\u001b[0m\u001b[0;34m\u001b[0m\u001b[0m\n\u001b[1;32m      3\u001b[0m \u001b[0mtest_data\u001b[0m\u001b[0;34m.\u001b[0m\u001b[0mto_csv\u001b[0m\u001b[0;34m(\u001b[0m\u001b[0;34m'test_data.csv'\u001b[0m\u001b[0;34m,\u001b[0m\u001b[0mcolumns\u001b[0m \u001b[0;34m=\u001b[0m \u001b[0mdata\u001b[0m\u001b[0;34m.\u001b[0m\u001b[0mcolumns\u001b[0m\u001b[0;34m,\u001b[0m\u001b[0mindex\u001b[0m \u001b[0;34m=\u001b[0m\u001b[0;32mNone\u001b[0m\u001b[0;34m)\u001b[0m\u001b[0;34m\u001b[0m\u001b[0;34m\u001b[0m\u001b[0m\n\u001b[1;32m      4\u001b[0m \u001b[0mtest\u001b[0m\u001b[0;34m.\u001b[0m\u001b[0mshape\u001b[0m\u001b[0;34m\u001b[0m\u001b[0;34m\u001b[0m\u001b[0m\n",
      "\u001b[0;32m~/miniconda3/envs/py36/lib/python3.6/site-packages/pandas/core/generic.py\u001b[0m in \u001b[0;36mdrop\u001b[0;34m(self, labels, axis, level, inplace, errors)\u001b[0m\n\u001b[1;32m   2159\u001b[0m                 \u001b[0mnew_axis\u001b[0m \u001b[0;34m=\u001b[0m \u001b[0maxis\u001b[0m\u001b[0;34m.\u001b[0m\u001b[0mdrop\u001b[0m\u001b[0;34m(\u001b[0m\u001b[0mlabels\u001b[0m\u001b[0;34m,\u001b[0m \u001b[0mlevel\u001b[0m\u001b[0;34m=\u001b[0m\u001b[0mlevel\u001b[0m\u001b[0;34m,\u001b[0m \u001b[0merrors\u001b[0m\u001b[0;34m=\u001b[0m\u001b[0merrors\u001b[0m\u001b[0;34m)\u001b[0m\u001b[0;34m\u001b[0m\u001b[0;34m\u001b[0m\u001b[0m\n\u001b[1;32m   2160\u001b[0m             \u001b[0;32melse\u001b[0m\u001b[0;34m:\u001b[0m\u001b[0;34m\u001b[0m\u001b[0;34m\u001b[0m\u001b[0m\n\u001b[0;32m-> 2161\u001b[0;31m                 \u001b[0mnew_axis\u001b[0m \u001b[0;34m=\u001b[0m \u001b[0maxis\u001b[0m\u001b[0;34m.\u001b[0m\u001b[0mdrop\u001b[0m\u001b[0;34m(\u001b[0m\u001b[0mlabels\u001b[0m\u001b[0;34m,\u001b[0m \u001b[0merrors\u001b[0m\u001b[0;34m=\u001b[0m\u001b[0merrors\u001b[0m\u001b[0;34m)\u001b[0m\u001b[0;34m\u001b[0m\u001b[0;34m\u001b[0m\u001b[0m\n\u001b[0m\u001b[1;32m   2162\u001b[0m             \u001b[0mdropped\u001b[0m \u001b[0;34m=\u001b[0m \u001b[0mself\u001b[0m\u001b[0;34m.\u001b[0m\u001b[0mreindex\u001b[0m\u001b[0;34m(\u001b[0m\u001b[0;34m**\u001b[0m\u001b[0;34m{\u001b[0m\u001b[0maxis_name\u001b[0m\u001b[0;34m:\u001b[0m \u001b[0mnew_axis\u001b[0m\u001b[0;34m}\u001b[0m\u001b[0;34m)\u001b[0m\u001b[0;34m\u001b[0m\u001b[0;34m\u001b[0m\u001b[0m\n\u001b[1;32m   2163\u001b[0m             \u001b[0;32mtry\u001b[0m\u001b[0;34m:\u001b[0m\u001b[0;34m\u001b[0m\u001b[0;34m\u001b[0m\u001b[0m\n",
      "\u001b[0;32m~/miniconda3/envs/py36/lib/python3.6/site-packages/pandas/core/indexes/base.py\u001b[0m in \u001b[0;36mdrop\u001b[0;34m(self, labels, errors)\u001b[0m\n\u001b[1;32m   3622\u001b[0m             \u001b[0;32mif\u001b[0m \u001b[0merrors\u001b[0m \u001b[0;34m!=\u001b[0m \u001b[0;34m'ignore'\u001b[0m\u001b[0;34m:\u001b[0m\u001b[0;34m\u001b[0m\u001b[0;34m\u001b[0m\u001b[0m\n\u001b[1;32m   3623\u001b[0m                 raise ValueError('labels %s not contained in axis' %\n\u001b[0;32m-> 3624\u001b[0;31m                                  labels[mask])\n\u001b[0m\u001b[1;32m   3625\u001b[0m             \u001b[0mindexer\u001b[0m \u001b[0;34m=\u001b[0m \u001b[0mindexer\u001b[0m\u001b[0;34m[\u001b[0m\u001b[0;34m~\u001b[0m\u001b[0mmask\u001b[0m\u001b[0;34m]\u001b[0m\u001b[0;34m\u001b[0m\u001b[0;34m\u001b[0m\u001b[0m\n\u001b[1;32m   3626\u001b[0m         \u001b[0;32mreturn\u001b[0m \u001b[0mself\u001b[0m\u001b[0;34m.\u001b[0m\u001b[0mdelete\u001b[0m\u001b[0;34m(\u001b[0m\u001b[0mindexer\u001b[0m\u001b[0;34m)\u001b[0m\u001b[0;34m\u001b[0m\u001b[0;34m\u001b[0m\u001b[0m\n",
      "\u001b[0;31mValueError\u001b[0m: labels ['happiness'] not contained in axis"
     ]
    }
   ],
   "source": [
    "data = data.drop('happiness', axis =1)\n",
    "test_data = data[8000:]\n",
    "test_data.to_csv('test_data.csv',columns = data.columns,index =None)\n"
   ]
  },
  {
   "cell_type": "code",
   "execution_count": 39,
   "metadata": {},
   "outputs": [
    {
     "data": {
      "text/plain": [
       "(2968, 135)"
      ]
     },
     "execution_count": 39,
     "metadata": {},
     "output_type": "execute_result"
    }
   ],
   "source": [
    "test_data.shape"
   ]
  },
  {
   "cell_type": "markdown",
   "metadata": {},
   "source": [
    "### RandomForestRegressor 预测  （与决策树用法一致，多了n_estimators)"
   ]
  },
  {
   "cell_type": "code",
   "execution_count": 55,
   "metadata": {},
   "outputs": [
    {
     "data": {
      "text/plain": [
       "-0.4822332375"
      ]
     },
     "execution_count": 55,
     "metadata": {},
     "output_type": "execute_result"
    }
   ],
   "source": [
    "rfr = RFR(random_state=0)#回归树的接口score返回的是R^2 不是mse\n",
    "mse=cross_val_score(rfr, data[:train_shape], target, cv=10, scoring='neg_mean_squared_error').mean()\n",
    "mse\n",
    "# from sklearn import metrics  sorted(metrics.SCORERS.keys())可查看评分指标的各种类型\n",
    "# 如果不加参数scoring = '...',默认衡量指标为R^2 \n",
    "# R平方可以为正为负(如果模型的残差平方和远远大于 模型的总平方和，模型非常糟糕，R平方就会为负)，而均方误差永远为正。\n",
    "# MSE为正，但是sklearn当中使用均方误差作为评判标准时，却是计算”负均方误 差“(neg_mean_squared_error)\n",
    "# （以表示loss的意义）"
   ]
  },
  {
   "cell_type": "markdown",
   "metadata": {},
   "source": [
    "### 调参 （同RandomForestRegressor）"
   ]
  },
  {
   "cell_type": "code",
   "execution_count": 56,
   "metadata": {},
   "outputs": [
    {
     "name": "stdout",
     "output_type": "stream",
     "text": [
      "-0.47958925193936575 191\n"
     ]
    },
    {
     "data": {
      "image/png": "[encoded data removed]",
      "text/plain": [
       "<Figure size 1440x360 with 1 Axes>"
      ]
     },
     "metadata": {},
     "output_type": "display_data"
    }
   ],
   "source": [
    "# 调整n_estimators\n",
    "mse = []\n",
    "for i in range(1,200,10):\n",
    "    rfr = RFR(n_estimators=i\n",
    "              ,criterion = 'mse'# 默认mse均方误差，父节点和叶子节点之间的均方误差作为特征选择的标准 另有friedman_mse”、mae\n",
    "              ,random_state=0\n",
    "              ,n_jobs=-1        #cpu核并行运算\n",
    "             ) \n",
    "    mse1=cross_val_score(rfr, data[:train_shape], target, cv=10, scoring='neg_mean_squared_error').mean()\n",
    "    mse.append(mse1)\n",
    "    \n",
    "print(max(mse),(mse.index(max(mse))*10)+1)\n",
    "plt.figure(figsize=[20,5])\n",
    "plt.xlabel('分类器(回归树)个数(n_estimators)')\n",
    "plt.ylabel('均方误差')\n",
    "plt.plot(range(1,200,10),[-i for i in mse])\n",
    "plt.show()"
   ]
  },
  {
   "cell_type": "code",
   "execution_count": null,
   "metadata": {
    "jupyter": {
     "source_hidden": true
    }
   },
   "outputs": [],
   "source": [
    "# # 细化n_estimators\n",
    "# mse = []\n",
    "# for i in range(185,195):\n",
    "#     rfr = RFR(n_estimators=i\n",
    "#               ,criterion = 'mse'# 默认mse均方误差，父节点和叶子节点之间的均方误差作为特征选择的标准 另有friedman_mse”、mae\n",
    "#               ,random_state=0\n",
    "#               ,n_jobs=-1        #cpu核并行运算\n",
    "#              ) \n",
    "#     mse1=cross_val_score(rfr, data[:train_shape], target, cv=10, scoring='neg_mean_squared_error').mean()\n",
    "#     mse.append(mse1)\n",
    "    \n",
    "# print(max(mse),[*range(185,195)][mse.index(max(mse))])\n",
    "# plt.figure(figsize=[20,5])\n",
    "# plt.xlabel('n_estimators')\n",
    "# plt.ylabel('mse')\n",
    "# plt.plot(range(185,195),[-i for i in mse])\n",
    "# plt.show()"
   ]
  },
  {
   "cell_type": "code",
   "execution_count": 57,
   "metadata": {
    "collapsed": true,
    "jupyter": {
     "outputs_hidden": true
    }
   },
   "outputs": [
    {
     "data": {
      "text/plain": [
       "GridSearchCV(cv=10, error_score=nan,\n",
       "             estimator=RandomForestRegressor(bootstrap=True, ccp_alpha=0.0,\n",
       "                                             criterion='mse', max_depth=None,\n",
       "                                             max_features='auto',\n",
       "                                             max_leaf_nodes=None,\n",
       "                                             max_samples=None,\n",
       "                                             min_impurity_decrease=0.0,\n",
       "                                             min_impurity_split=None,\n",
       "                                             min_samples_leaf=1,\n",
       "                                             min_samples_split=2,\n",
       "                                             min_weight_fraction_leaf=0.0,\n",
       "                                             n_estimators=100, n_jobs=None,\n",
       "                                             oob_score=False, random_state=0,\n",
       "                                             verbose=0, warm_start=False),\n",
       "             iid='deprecated', n_jobs=None,\n",
       "             param_grid={'max_depth': array([ 1,  2,  3,  4,  5,  6,  7,  8,  9, 10, 11, 12, 13, 14, 15, 16, 17,\n",
       "       18, 19, 20, 21, 22, 23, 24, 25, 26, 27, 28, 29])},\n",
       "             pre_dispatch='2*n_jobs', refit=True, return_train_score=False,\n",
       "             scoring='neg_mean_squared_error', verbose=0)"
      ]
     },
     "execution_count": 57,
     "metadata": {},
     "output_type": "execute_result"
    }
   ],
   "source": [
    "# 调整max_depth\n",
    "param_grid = {'max_depth':np.arange(1,30)}\n",
    "\n",
    "rfr = RFR(#n_estimators= 191\n",
    "          criterion = 'mse'# 默认mse均方误差，父节点和叶子节点之间的均方误差作为特征选择的标准 另有friedman_mse”、mae\n",
    "          ,random_state=0\n",
    "#           ,n_jobs=-1        #cpu核并行运算\n",
    "          )\n",
    "Gs = GridSearchCV(rfr,param_grid, scoring= 'neg_mean_squared_error', cv=10)\n",
    "Gs.fit(data[:train_shape], target)"
   ]
  },
  {
   "cell_type": "code",
   "execution_count": 59,
   "metadata": {},
   "outputs": [
    {
     "name": "stdout",
     "output_type": "stream",
     "text": [
      "{'max_depth': 24} -0.4817111295851692\n"
     ]
    }
   ],
   "source": [
    "print(Gs.best_params_, Gs.best_score_)"
   ]
  },
  {
   "cell_type": "code",
   "execution_count": 60,
   "metadata": {
    "collapsed": true,
    "jupyter": {
     "outputs_hidden": true
    }
   },
   "outputs": [
    {
     "data": {
      "text/plain": [
       "GridSearchCV(cv=10, error_score=nan,\n",
       "             estimator=RandomForestRegressor(bootstrap=True, ccp_alpha=0.0,\n",
       "                                             criterion='mse', max_depth=None,\n",
       "                                             max_features='auto',\n",
       "                                             max_leaf_nodes=None,\n",
       "                                             max_samples=None,\n",
       "                                             min_impurity_decrease=0.0,\n",
       "                                             min_impurity_split=None,\n",
       "                                             min_samples_leaf=1,\n",
       "                                             min_samples_split=2,\n",
       "                                             min_weight_fraction_leaf=0.0,\n",
       "                                             n_estimators=191, n_jobs=-1,\n",
       "                                             oob_score=False, random_state=0,\n",
       "                                             verbose=0, warm_start=False),\n",
       "             iid='deprecated', n_jobs=None,\n",
       "             param_grid={'max_features': array([11, 13, 15, 17, 19, 21, 23, 25, 27, 29, 31, 33, 35, 37, 39, 41, 43,\n",
       "       45, 47, 49])},\n",
       "             pre_dispatch='2*n_jobs', refit=True, return_train_score=False,\n",
       "             scoring='neg_mean_squared_error', verbose=0)"
      ]
     },
     "execution_count": 60,
     "metadata": {},
     "output_type": "execute_result"
    }
   ],
   "source": [
    "# 调整 max_features\n",
    "param_grid = {'max_features':np.arange(11,50,2)}\n",
    "\n",
    "rfr = RFR(n_estimators= 191\n",
    "#           ,max_depth =24\n",
    "          ,criterion = 'mse'# 默认mse均方误差，父节点和叶子节点之间的均方误差作为特征选择的标准 另有friedman_mse”、mae\n",
    "          ,random_state=0\n",
    "          ,n_jobs=-1        #cpu核并行运算\n",
    "          )\n",
    "Gs = GridSearchCV(rfr,param_grid, scoring= 'neg_mean_squared_error', cv=10)\n",
    "Gs.fit(data[:train_shape], target)"
   ]
  },
  {
   "cell_type": "code",
   "execution_count": 61,
   "metadata": {},
   "outputs": [
    {
     "name": "stdout",
     "output_type": "stream",
     "text": [
      "{'max_features': 27} -0.4780549669691072\n"
     ]
    }
   ],
   "source": [
    "print(Gs.best_params_, Gs.best_score_)"
   ]
  },
  {
   "cell_type": "code",
   "execution_count": 64,
   "metadata": {},
   "outputs": [],
   "source": [
    "# 导出预测结果\n",
    "train_data = data[:train_shape]\n",
    "test_data = data[train_shape:]\n",
    "rfr = RFR(n_estimators= 191\n",
    "          ,max_features = 27\n",
    "          ,random_state = 0\n",
    "         )\n",
    "rfr.fit(train_data,target)\n",
    "# mse1=cross_val_score(rfr, data[:train_shape], target, cv=10, scoring='neg_mean_squared_error').mean()\n",
    "# # mse1\n",
    "predict = rfr.predict(test_data)\n",
    "result = pd.DataFrame({'id':test_id,'happiness':predict},columns = ['id','happiness'],)\n",
    "result.to_csv('happiness_submit2.csv',index=None)"
   ]
  },
  {
   "cell_type": "code",
   "execution_count": 56,
   "metadata": {},
   "outputs": [
    {
     "data": {
      "text/plain": [
       "4    2647\n",
       "5     140\n",
       "3     127\n",
       "2      50\n",
       "1       4\n",
       "Name: happiness, dtype: int64"
      ]
     },
     "execution_count": 56,
     "metadata": {},
     "output_type": "execute_result"
    }
   ],
   "source": [
    "result['happiness'].value_counts()"
   ]
  },
  {
   "cell_type": "code",
   "execution_count": 3,
   "metadata": {},
   "outputs": [
    {
     "data": {
      "text/plain": [
       "[-1, -23, -4, -4, -5, -6]"
      ]
     },
     "execution_count": 3,
     "metadata": {},
     "output_type": "execute_result"
    }
   ],
   "source": [
    "a =[1,23,4,4,5,6]\n",
    "[-i for i in a]"
   ]
  },
  {
   "cell_type": "code",
   "execution_count": null,
   "metadata": {},
   "outputs": [],
   "source": []
  }
 ],
 "metadata": {
  "kernelspec": {
   "display_name": "Python 3",
   "language": "python",
   "name": "python3"
  },
  "language_info": {
   "codemirror_mode": {
    "name": "ipython",
    "version": 3
   },
   "file_extension": ".py",
   "mimetype": "text/x-python",
   "name": "python",
   "nbconvert_exporter": "python",
   "pygments_lexer": "ipython3",
   "version": "3.6.9"
  }
 },
 "nbformat": 4,
 "nbformat_minor": 4
}
