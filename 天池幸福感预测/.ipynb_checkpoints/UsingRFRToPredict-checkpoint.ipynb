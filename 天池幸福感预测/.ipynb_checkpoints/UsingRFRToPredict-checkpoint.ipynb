{
 "cells": [
  {
   "cell_type": "code",
   "execution_count": 32,
   "metadata": {},
   "outputs": [],
   "source": [
    "import pandas as pd\n",
    "import numpy as np\n",
    "import matplotlib.pyplot as plt\n",
    "# from sklearn.metrics import mean_squared_error as MSE\n",
    "# from sklearn.model_selection import KFold\n",
    "# from sklearn.model_selection import train_test_split\n",
    "from sklearn.model_selection import GridSearchCV\n",
    "from sklearn.model_selection import cross_val_score\n",
    "from sklearn.ensemble import RandomForestRegressor as RFR"
   ]
  },
  {
   "cell_type": "code",
   "execution_count": 33,
   "metadata": {
    "scrolled": true
   },
   "outputs": [],
   "source": [
    "train_data = pd.read_csv('happiness_train_complete.csv', encoding='gbk')\n",
    "test_data =pd.read_csv('happiness_test_complete.csv',encoding='gbk')\n",
    "# train_data.shape"
   ]
  },
  {
   "cell_type": "code",
   "execution_count": 34,
   "metadata": {},
   "outputs": [],
   "source": [
    "# data.info(verbose=True, null_counts=True)"
   ]
  },
  {
   "cell_type": "code",
   "execution_count": 35,
   "metadata": {},
   "outputs": [
    {
     "data": {
      "text/plain": [
       " 4    4818\n",
       " 5    1410\n",
       " 3    1159\n",
       " 2     497\n",
       " 1     104\n",
       "-8      12\n",
       "Name: happiness, dtype: int64"
      ]
     },
     "execution_count": 35,
     "metadata": {},
     "output_type": "execute_result"
    }
   ],
   "source": [
    "# 查看标签值\n",
    "# read_data['happiness'].unique()\n",
    "train_data['happiness'].value_counts()"
   ]
  },
  {
   "cell_type": "code",
   "execution_count": 36,
   "metadata": {},
   "outputs": [],
   "source": [
    "train_data['happiness'].replace(-8, 3,inplace =True)"
   ]
  },
  {
   "cell_type": "code",
   "execution_count": 37,
   "metadata": {},
   "outputs": [],
   "source": [
    "target_col = 'happiness'\n",
    "train_data_copy = train_data.copy()\n",
    "target = train_data_copy[target_col]\n",
    "\n",
    "del train_data_copy[target_col]\n",
    "\n",
    "train_shape = train_data_copy.shape[0]\n",
    "\n",
    "data = pd.concat([train_data_copy, test_data],axis=0)\n",
    "# train_shape\n",
    "# target.unique()\n",
    "# data.shape"
   ]
  },
  {
   "cell_type": "code",
   "execution_count": 38,
   "metadata": {},
   "outputs": [
    {
     "name": "stdout",
     "output_type": "stream",
     "text": [
      "train shape: (8000, 140)\n"
     ]
    }
   ],
   "source": [
    "train_data = train_data[train_data[\"happiness\"]!=-8].reset_index(drop=True)#注意drop=True\n",
    "print('train shape:',train_data.shape)"
   ]
  },
  {
   "cell_type": "code",
   "execution_count": 39,
   "metadata": {},
   "outputs": [],
   "source": [
    "# 查看数据缺失信息\n",
    "# data.info(verbose=True, null_counts=True)"
   ]
  },
  {
   "cell_type": "code",
   "execution_count": 40,
   "metadata": {},
   "outputs": [],
   "source": [
    "# 处理时间序列 data['survey_time'] ---删除\n",
    "# 但可计算测试者年龄\n",
    "data['survey_time'] = pd.to_datetime(data['survey_time'],format='%Y-%m-%d %H:%M:%S')\n",
    "data['age'] = data['survey_time'].dt.year - data['birth']\n",
    "data = data.drop(['survey_time'], axis = 1)# data= data.drop(cloumns = ['survey_time])"
   ]
  },
  {
   "cell_type": "code",
   "execution_count": 41,
   "metadata": {},
   "outputs": [
    {
     "data": {
      "text/plain": [
       "(10968, 139)"
      ]
     },
     "execution_count": 41,
     "metadata": {},
     "output_type": "execute_result"
    }
   ],
   "source": [
    "data.shape"
   ]
  },
  {
   "cell_type": "code",
   "execution_count": 42,
   "metadata": {},
   "outputs": [],
   "source": [
    "# edu_other edu_status edu_yr 缺失值太多直接删除\n",
    "data = data.drop(['edu_other', 'edu_status', 'edu_yr'], axis= 1)"
   ]
  },
  {
   "cell_type": "code",
   "execution_count": 43,
   "metadata": {},
   "outputs": [],
   "source": [
    "# 入党时间 join_party\n",
    "data['join_party'] = data['join_party'].map(lambda x:0 if pd.isnull(x) else 1)\n",
    "# data['join_party']"
   ]
  },
  {
   "cell_type": "code",
   "execution_count": 44,
   "metadata": {},
   "outputs": [],
   "source": [
    "# property_other 房产登记状况\n",
    "# data.loc[data['property_other'].notnull(),'property_other']\n",
    "data['property_other'] = data['property_other'].map(lambda x:0 if pd.isnull(x) else 1)"
   ]
  },
  {
   "cell_type": "code",
   "execution_count": 45,
   "metadata": {},
   "outputs": [],
   "source": [
    "# 户口登记情况\n",
    "# data['hukou_loc'].value_counts()\n",
    "# data['hukou_loc'].value_counts().argmax() 众数\n",
    "data['hukou_loc'] = data['hukou_loc'].fillna(data['hukou_loc'].value_counts().idxmax())"
   ]
  },
  {
   "cell_type": "code",
   "execution_count": 46,
   "metadata": {},
   "outputs": [],
   "source": [
    "# social_neighbor social_friend 与邻居、朋友的 社交时长\n",
    "# data.loc[:,['social_neighbor','social_friend']]\n",
    "data['social_neighbor'] = data['social_neighbor'].fillna(data['social_neighbor'].value_counts().idxmax())\n",
    "data['social_friend'] = data['social_friend'].fillna(data['social_friend'].value_counts().idxmax())"
   ]
  },
  {
   "cell_type": "code",
   "execution_count": 47,
   "metadata": {},
   "outputs": [],
   "source": [
    "# work_... 工作状况\n",
    "# data[['work_status','work_yr','work_type','work_manage']]\n",
    "# data.loc[:,['work_status','work_yr','work_type','work_manage']]\n",
    "data['work_status'] = data['work_status'].fillna(0)\n",
    "data['work_yr']     = data['work_yr'].fillna(0)\n",
    "data['work_type']   = data['work_type'].fillna(0)\n",
    "data['work_manage'] = data['work_manage'].fillna(0)"
   ]
  },
  {
   "cell_type": "code",
   "execution_count": 48,
   "metadata": {},
   "outputs": [],
   "source": [
    "# family_income 家庭收入\n",
    "data['family_income'] = data['family_income'].fillna(data['family_income'].median())"
   ]
  },
  {
   "cell_type": "code",
   "execution_count": 49,
   "metadata": {},
   "outputs": [],
   "source": [
    "# invest_other\n",
    "# data['invest_other']\n",
    "data['invest_other'] = data['invest_other'].map(lambda x:0 if pd.isnull(x) else 1)"
   ]
  },
  {
   "cell_type": "code",
   "execution_count": 50,
   "metadata": {},
   "outputs": [],
   "source": [
    "# minor_child 有几个18岁以下的子女\n",
    "# data['minor_child'].value_counts()\n",
    "data['minor_child'] = data['minor_child'].fillna(data['minor_child'].value_counts().argmax())"
   ]
  },
  {
   "cell_type": "code",
   "execution_count": 51,
   "metadata": {},
   "outputs": [],
   "source": [
    "# marital_1st 首婚那年\n",
    "# s_brith 配偶那一年生的\n",
    "# marital_now 和目前配偶什么时候结婚\n",
    "data[['marital_1st','s_birth','marital_now']]= data[['marital_1st','s_birth','marital_now']].fillna(0)"
   ]
  },
  {
   "cell_type": "code",
   "execution_count": 52,
   "metadata": {},
   "outputs": [],
   "source": [
    "# 伴侣各方面情况 s_edu s_politicla s_hukou s_incomm ...\n",
    "data['s_edu']         = data['s_edu'].fillna(0)\n",
    "data['s_hukou']       = data['s_hukou'].fillna(0)\n",
    "data['s_income']      = data['s_income'].fillna(0)\n",
    "data['s_political']   = data['s_political'].fillna(0)\n",
    "data['s_work_exper']  = data['s_work_exper'].fillna(0)\n",
    "data['s_work_status'] = data['s_work_status'].fillna(0)\n",
    "data['s_work_type']   = data['s_work_type'].fillna(0)"
   ]
  },
  {
   "cell_type": "code",
   "execution_count": 53,
   "metadata": {},
   "outputs": [
    {
     "data": {
      "text/html": [
       "<div>\n",
       "<style>\n",
       "    .dataframe thead tr:only-child th {\n",
       "        text-align: right;\n",
       "    }\n",
       "\n",
       "    .dataframe thead th {\n",
       "        text-align: left;\n",
       "    }\n",
       "\n",
       "    .dataframe tbody tr th {\n",
       "        vertical-align: top;\n",
       "    }\n",
       "</style>\n",
       "<table border=\"1\" class=\"dataframe\">\n",
       "  <thead>\n",
       "    <tr style=\"text-align: right;\">\n",
       "      <th></th>\n",
       "      <th>survey_type</th>\n",
       "      <th>province</th>\n",
       "      <th>city</th>\n",
       "      <th>county</th>\n",
       "      <th>gender</th>\n",
       "      <th>birth</th>\n",
       "      <th>nationality</th>\n",
       "      <th>religion</th>\n",
       "      <th>religion_freq</th>\n",
       "      <th>edu</th>\n",
       "      <th>...</th>\n",
       "      <th>public_service_1</th>\n",
       "      <th>public_service_2</th>\n",
       "      <th>public_service_3</th>\n",
       "      <th>public_service_4</th>\n",
       "      <th>public_service_5</th>\n",
       "      <th>public_service_6</th>\n",
       "      <th>public_service_7</th>\n",
       "      <th>public_service_8</th>\n",
       "      <th>public_service_9</th>\n",
       "      <th>age</th>\n",
       "    </tr>\n",
       "  </thead>\n",
       "  <tbody>\n",
       "    <tr>\n",
       "      <th>0</th>\n",
       "      <td>1</td>\n",
       "      <td>12</td>\n",
       "      <td>32</td>\n",
       "      <td>59</td>\n",
       "      <td>1</td>\n",
       "      <td>1959</td>\n",
       "      <td>1</td>\n",
       "      <td>1</td>\n",
       "      <td>1</td>\n",
       "      <td>11</td>\n",
       "      <td>...</td>\n",
       "      <td>50</td>\n",
       "      <td>60.0</td>\n",
       "      <td>50</td>\n",
       "      <td>50</td>\n",
       "      <td>30.0</td>\n",
       "      <td>30</td>\n",
       "      <td>50</td>\n",
       "      <td>50</td>\n",
       "      <td>50</td>\n",
       "      <td>56</td>\n",
       "    </tr>\n",
       "    <tr>\n",
       "      <th>1</th>\n",
       "      <td>2</td>\n",
       "      <td>18</td>\n",
       "      <td>52</td>\n",
       "      <td>85</td>\n",
       "      <td>1</td>\n",
       "      <td>1992</td>\n",
       "      <td>1</td>\n",
       "      <td>1</td>\n",
       "      <td>1</td>\n",
       "      <td>12</td>\n",
       "      <td>...</td>\n",
       "      <td>90</td>\n",
       "      <td>70.0</td>\n",
       "      <td>70</td>\n",
       "      <td>80</td>\n",
       "      <td>85.0</td>\n",
       "      <td>70</td>\n",
       "      <td>90</td>\n",
       "      <td>60</td>\n",
       "      <td>60</td>\n",
       "      <td>23</td>\n",
       "    </tr>\n",
       "    <tr>\n",
       "      <th>2</th>\n",
       "      <td>2</td>\n",
       "      <td>29</td>\n",
       "      <td>83</td>\n",
       "      <td>126</td>\n",
       "      <td>2</td>\n",
       "      <td>1967</td>\n",
       "      <td>1</td>\n",
       "      <td>0</td>\n",
       "      <td>3</td>\n",
       "      <td>4</td>\n",
       "      <td>...</td>\n",
       "      <td>90</td>\n",
       "      <td>80.0</td>\n",
       "      <td>75</td>\n",
       "      <td>79</td>\n",
       "      <td>80.0</td>\n",
       "      <td>90</td>\n",
       "      <td>90</td>\n",
       "      <td>90</td>\n",
       "      <td>75</td>\n",
       "      <td>48</td>\n",
       "    </tr>\n",
       "    <tr>\n",
       "      <th>3</th>\n",
       "      <td>2</td>\n",
       "      <td>10</td>\n",
       "      <td>28</td>\n",
       "      <td>51</td>\n",
       "      <td>2</td>\n",
       "      <td>1943</td>\n",
       "      <td>1</td>\n",
       "      <td>1</td>\n",
       "      <td>1</td>\n",
       "      <td>3</td>\n",
       "      <td>...</td>\n",
       "      <td>100</td>\n",
       "      <td>90.0</td>\n",
       "      <td>70</td>\n",
       "      <td>80</td>\n",
       "      <td>80.0</td>\n",
       "      <td>90</td>\n",
       "      <td>90</td>\n",
       "      <td>80</td>\n",
       "      <td>80</td>\n",
       "      <td>72</td>\n",
       "    </tr>\n",
       "    <tr>\n",
       "      <th>4</th>\n",
       "      <td>1</td>\n",
       "      <td>7</td>\n",
       "      <td>18</td>\n",
       "      <td>36</td>\n",
       "      <td>2</td>\n",
       "      <td>1994</td>\n",
       "      <td>1</td>\n",
       "      <td>1</td>\n",
       "      <td>1</td>\n",
       "      <td>12</td>\n",
       "      <td>...</td>\n",
       "      <td>50</td>\n",
       "      <td>50.0</td>\n",
       "      <td>50</td>\n",
       "      <td>50</td>\n",
       "      <td>50.0</td>\n",
       "      <td>50</td>\n",
       "      <td>50</td>\n",
       "      <td>50</td>\n",
       "      <td>50</td>\n",
       "      <td>21</td>\n",
       "    </tr>\n",
       "  </tbody>\n",
       "</table>\n",
       "<p>5 rows × 135 columns</p>\n",
       "</div>"
      ],
      "text/plain": [
       "   survey_type  province  city  county  gender  birth  nationality  religion  \\\n",
       "0            1        12    32      59       1   1959            1         1   \n",
       "1            2        18    52      85       1   1992            1         1   \n",
       "2            2        29    83     126       2   1967            1         0   \n",
       "3            2        10    28      51       2   1943            1         1   \n",
       "4            1         7    18      36       2   1994            1         1   \n",
       "\n",
       "   religion_freq  edu ...   public_service_1  public_service_2  \\\n",
       "0              1   11 ...                 50              60.0   \n",
       "1              1   12 ...                 90              70.0   \n",
       "2              3    4 ...                 90              80.0   \n",
       "3              1    3 ...                100              90.0   \n",
       "4              1   12 ...                 50              50.0   \n",
       "\n",
       "   public_service_3  public_service_4  public_service_5  public_service_6  \\\n",
       "0                50                50              30.0                30   \n",
       "1                70                80              85.0                70   \n",
       "2                75                79              80.0                90   \n",
       "3                70                80              80.0                90   \n",
       "4                50                50              50.0                50   \n",
       "\n",
       "   public_service_7  public_service_8  public_service_9  age  \n",
       "0                50                50                50   56  \n",
       "1                90                60                60   23  \n",
       "2                90                90                75   48  \n",
       "3                90                80                80   72  \n",
       "4                50                50                50   21  \n",
       "\n",
       "[5 rows x 135 columns]"
      ]
     },
     "execution_count": 53,
     "metadata": {},
     "output_type": "execute_result"
    }
   ],
   "source": [
    "# data.info(verbose=True, null_counts=True)\n",
    "# data.head()\n",
    "test_id = data[train_shape:]['id']\n",
    "data = data.drop(['id'], axis =1)"
   ]
  },
  {
   "cell_type": "markdown",
   "metadata": {},
   "source": [
    "### RandomForestRegressor 预测  （与决策树用法一致，多了n_estimators)"
   ]
  },
  {
   "cell_type": "code",
   "execution_count": 55,
   "metadata": {},
   "outputs": [
    {
     "data": {
      "text/plain": [
       "-0.4822332375"
      ]
     },
     "execution_count": 55,
     "metadata": {},
     "output_type": "execute_result"
    }
   ],
   "source": [
    "rfr = RFR(random_state=0)#回归树的接口score返回的是R^2 不是mse\n",
    "mse=cross_val_score(rfr, data[:train_shape], target, cv=10, scoring='neg_mean_squared_error').mean()\n",
    "mse\n",
    "# from sklearn import metrics  sorted(metrics.SCORERS.keys())可查看评分指标的各种类型\n",
    "# 如果不加参数scoring = '...',默认衡量指标为R^2 \n",
    "# R平方可以为正为负(如果模型的残差平方和远远大于 模型的总平方和，模型非常糟糕，R平方就会为负)，而均方误差永远为正。\n",
    "# MSE为正，但是sklearn当中使用均方误差作为评判标准时，却是计算”负均方误 差“(neg_mean_squared_error)\n",
    "# （以表示loss的意义）"
   ]
  },
  {
   "cell_type": "markdown",
   "metadata": {},
   "source": [
    "### 调参 （同RandomForestRegressor）"
   ]
  },
  {
   "cell_type": "code",
   "execution_count": 56,
   "metadata": {},
   "outputs": [
    {
     "name": "stdout",
     "output_type": "stream",
     "text": [
      "-0.47958925193936575 191\n"
     ]
    },
    {
     "data": {
      "image/png": "[encoded data removed]",
      "text/plain": [
       "<Figure size 1440x360 with 1 Axes>"
      ]
     },
     "metadata": {},
     "output_type": "display_data"
    }
   ],
   "source": [
    "# 调整n_estimators\n",
    "mse = []\n",
    "for i in range(1,200,10):\n",
    "    rfr = RFR(n_estimators=i\n",
    "              ,criterion = 'mse'# 默认mse均方误差，父节点和叶子节点之间的均方误差作为特征选择的标准 另有friedman_mse”、mae\n",
    "              ,random_state=0\n",
    "              ,n_jobs=-1        #cpu核并行运算\n",
    "             ) \n",
    "    mse1=cross_val_score(rfr, data[:train_shape], target, cv=10, scoring='neg_mean_squared_error').mean()\n",
    "    mse.append(mse1)\n",
    "    \n",
    "print(max(mse),(mse.index(max(mse))*10)+1)\n",
    "plt.figure(figsize=[20,5])\n",
    "plt.xlabel('分类器(回归树)个数(n_estimators)')\n",
    "plt.ylabel('均方误差')\n",
    "plt.plot(range(1,200,10),[-i for i in mse])\n",
    "plt.show()"
   ]
  },
  {
   "cell_type": "code",
   "execution_count": null,
   "metadata": {
    "jupyter": {
     "source_hidden": true
    }
   },
   "outputs": [],
   "source": [
    "# # 细化n_estimators\n",
    "# mse = []\n",
    "# for i in range(185,195):\n",
    "#     rfr = RFR(n_estimators=i\n",
    "#               ,criterion = 'mse'# 默认mse均方误差，父节点和叶子节点之间的均方误差作为特征选择的标准 另有friedman_mse”、mae\n",
    "#               ,random_state=0\n",
    "#               ,n_jobs=-1        #cpu核并行运算\n",
    "#              ) \n",
    "#     mse1=cross_val_score(rfr, data[:train_shape], target, cv=10, scoring='neg_mean_squared_error').mean()\n",
    "#     mse.append(mse1)\n",
    "    \n",
    "# print(max(mse),[*range(185,195)][mse.index(max(mse))])\n",
    "# plt.figure(figsize=[20,5])\n",
    "# plt.xlabel('n_estimators')\n",
    "# plt.ylabel('mse')\n",
    "# plt.plot(range(185,195),[-i for i in mse])\n",
    "# plt.show()"
   ]
  },
  {
   "cell_type": "code",
   "execution_count": 57,
   "metadata": {
    "collapsed": true,
    "jupyter": {
     "outputs_hidden": true
    }
   },
   "outputs": [
    {
     "data": {
      "text/plain": [
       "GridSearchCV(cv=10, error_score=nan,\n",
       "             estimator=RandomForestRegressor(bootstrap=True, ccp_alpha=0.0,\n",
       "                                             criterion='mse', max_depth=None,\n",
       "                                             max_features='auto',\n",
       "                                             max_leaf_nodes=None,\n",
       "                                             max_samples=None,\n",
       "                                             min_impurity_decrease=0.0,\n",
       "                                             min_impurity_split=None,\n",
       "                                             min_samples_leaf=1,\n",
       "                                             min_samples_split=2,\n",
       "                                             min_weight_fraction_leaf=0.0,\n",
       "                                             n_estimators=100, n_jobs=None,\n",
       "                                             oob_score=False, random_state=0,\n",
       "                                             verbose=0, warm_start=False),\n",
       "             iid='deprecated', n_jobs=None,\n",
       "             param_grid={'max_depth': array([ 1,  2,  3,  4,  5,  6,  7,  8,  9, 10, 11, 12, 13, 14, 15, 16, 17,\n",
       "       18, 19, 20, 21, 22, 23, 24, 25, 26, 27, 28, 29])},\n",
       "             pre_dispatch='2*n_jobs', refit=True, return_train_score=False,\n",
       "             scoring='neg_mean_squared_error', verbose=0)"
      ]
     },
     "execution_count": 57,
     "metadata": {},
     "output_type": "execute_result"
    }
   ],
   "source": [
    "# 调整max_depth\n",
    "param_grid = {'max_depth':np.arange(1,30)}\n",
    "\n",
    "rfr = RFR(#n_estimators= 191\n",
    "          criterion = 'mse'# 默认mse均方误差，父节点和叶子节点之间的均方误差作为特征选择的标准 另有friedman_mse”、mae\n",
    "          ,random_state=0\n",
    "#           ,n_jobs=-1        #cpu核并行运算\n",
    "          )\n",
    "Gs = GridSearchCV(rfr,param_grid, scoring= 'neg_mean_squared_error', cv=10)\n",
    "Gs.fit(data[:train_shape], target)"
   ]
  },
  {
   "cell_type": "code",
   "execution_count": 59,
   "metadata": {},
   "outputs": [
    {
     "name": "stdout",
     "output_type": "stream",
     "text": [
      "{'max_depth': 24} -0.4817111295851692\n"
     ]
    }
   ],
   "source": [
    "print(Gs.best_params_, Gs.best_score_)"
   ]
  },
  {
   "cell_type": "code",
   "execution_count": 60,
   "metadata": {
    "collapsed": true,
    "jupyter": {
     "outputs_hidden": true
    }
   },
   "outputs": [
    {
     "data": {
      "text/plain": [
       "GridSearchCV(cv=10, error_score=nan,\n",
       "             estimator=RandomForestRegressor(bootstrap=True, ccp_alpha=0.0,\n",
       "                                             criterion='mse', max_depth=None,\n",
       "                                             max_features='auto',\n",
       "                                             max_leaf_nodes=None,\n",
       "                                             max_samples=None,\n",
       "                                             min_impurity_decrease=0.0,\n",
       "                                             min_impurity_split=None,\n",
       "                                             min_samples_leaf=1,\n",
       "                                             min_samples_split=2,\n",
       "                                             min_weight_fraction_leaf=0.0,\n",
       "                                             n_estimators=191, n_jobs=-1,\n",
       "                                             oob_score=False, random_state=0,\n",
       "                                             verbose=0, warm_start=False),\n",
       "             iid='deprecated', n_jobs=None,\n",
       "             param_grid={'max_features': array([11, 13, 15, 17, 19, 21, 23, 25, 27, 29, 31, 33, 35, 37, 39, 41, 43,\n",
       "       45, 47, 49])},\n",
       "             pre_dispatch='2*n_jobs', refit=True, return_train_score=False,\n",
       "             scoring='neg_mean_squared_error', verbose=0)"
      ]
     },
     "execution_count": 60,
     "metadata": {},
     "output_type": "execute_result"
    }
   ],
   "source": [
    "# 调整 max_features\n",
    "param_grid = {'max_features':np.arange(11,50,2)}\n",
    "\n",
    "rfr = RFR(n_estimators= 191\n",
    "#           ,max_depth =24\n",
    "          ,criterion = 'mse'# 默认mse均方误差，父节点和叶子节点之间的均方误差作为特征选择的标准 另有friedman_mse”、mae\n",
    "          ,random_state=0\n",
    "          ,n_jobs=-1        #cpu核并行运算\n",
    "          )\n",
    "Gs = GridSearchCV(rfr,param_grid, scoring= 'neg_mean_squared_error', cv=10)\n",
    "Gs.fit(data[:train_shape], target)"
   ]
  },
  {
   "cell_type": "code",
   "execution_count": 61,
   "metadata": {},
   "outputs": [
    {
     "name": "stdout",
     "output_type": "stream",
     "text": [
      "{'max_features': 27} -0.4780549669691072\n"
     ]
    }
   ],
   "source": [
    "print(Gs.best_params_, Gs.best_score_)"
   ]
  },
  {
   "cell_type": "code",
   "execution_count": 64,
   "metadata": {},
   "outputs": [],
   "source": [
    "# 导出预测结果\n",
    "train_data = data[:train_shape]\n",
    "test_data = data[train_shape:]\n",
    "rfr = RFR(n_estimators= 191\n",
    "          ,max_features = 27\n",
    "          ,random_state = 0\n",
    "         )\n",
    "rfr.fit(train_data,target)\n",
    "# mse1=cross_val_score(rfr, data[:train_shape], target, cv=10, scoring='neg_mean_squared_error').mean()\n",
    "# # mse1\n",
    "predict = rfr.predict(test_data)\n",
    "result = pd.DataFrame({'id':test_id,'happiness':predict},columns = ['id','happiness'],)\n",
    "result.to_csv('happiness_submit2.csv',index=None)"
   ]
  },
  {
   "cell_type": "code",
   "execution_count": 56,
   "metadata": {},
   "outputs": [
    {
     "data": {
      "text/plain": [
       "4    2647\n",
       "5     140\n",
       "3     127\n",
       "2      50\n",
       "1       4\n",
       "Name: happiness, dtype: int64"
      ]
     },
     "execution_count": 56,
     "metadata": {},
     "output_type": "execute_result"
    }
   ],
   "source": [
    "result['happiness'].value_counts()"
   ]
  },
  {
   "cell_type": "code",
   "execution_count": 3,
   "metadata": {},
   "outputs": [
    {
     "data": {
      "text/plain": [
       "[-1, -23, -4, -4, -5, -6]"
      ]
     },
     "execution_count": 3,
     "metadata": {},
     "output_type": "execute_result"
    }
   ],
   "source": [
    "a =[1,23,4,4,5,6]\n",
    "[-i for i in a]"
   ]
  },
  {
   "cell_type": "code",
   "execution_count": null,
   "metadata": {},
   "outputs": [],
   "source": []
  }
 ],
 "metadata": {
  "kernelspec": {
   "display_name": "Python 3",
   "language": "python",
   "name": "python3"
  },
  "language_info": {
   "codemirror_mode": {
    "name": "ipython",
    "version": 3
   },
   "file_extension": ".py",
   "mimetype": "text/x-python",
   "name": "python",
   "nbconvert_exporter": "python",
   "pygments_lexer": "ipython3",
   "version": "3.6.9"
  }
 },
 "nbformat": 4,
 "nbformat_minor": 4
}
