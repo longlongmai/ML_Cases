{
 "cells": [
  {
   "cell_type": "code",
   "execution_count": 2,
   "metadata": {},
   "outputs": [],
   "source": [
    "import pandas as pd\n",
    "import numpy as np\n",
    "import matplotlib.pyplot as plt\n",
    "from sklearn.metrics import mean_squared_error as MSE\n",
    "from sklearn.model_selection import KFold\n",
    "from sklearn.model_selection import train_test_split\n",
    "from sklearn.model_selection import cross_val_score\n",
    "from sklearn.ensemble import RandomForestClassifier as RFC"
   ]
  },
  {
   "cell_type": "code",
   "execution_count": 3,
   "metadata": {
    "scrolled": true
   },
   "outputs": [],
   "source": [
    "train_data = pd.read_csv('happiness_train_complete.csv', encoding='gbk')\n",
    "test_data =pd.read_csv('happiness_test_complete.csv',encoding='gbk')\n",
    "# train_data.shape"
   ]
  },
  {
   "cell_type": "code",
   "execution_count": 4,
   "metadata": {},
   "outputs": [],
   "source": [
    "# data.info(verbose=True, null_counts=True)"
   ]
  },
  {
   "cell_type": "code",
   "execution_count": 5,
   "metadata": {},
   "outputs": [
    {
     "data": {
      "text/plain": [
       " 4    4818\n",
       " 5    1410\n",
       " 3    1159\n",
       " 2     497\n",
       " 1     104\n",
       "-8      12\n",
       "Name: happiness, dtype: int64"
      ]
     },
     "execution_count": 5,
     "metadata": {},
     "output_type": "execute_result"
    }
   ],
   "source": [
    "# 查看标签值\n",
    "# read_data['happiness'].unique()\n",
    "train_data['happiness'].value_counts()"
   ]
  },
  {
   "cell_type": "code",
   "execution_count": 6,
   "metadata": {},
   "outputs": [],
   "source": [
    "train_data['happiness'].replace(-8, 3,inplace =True)"
   ]
  },
  {
   "cell_type": "code",
   "execution_count": 7,
   "metadata": {},
   "outputs": [],
   "source": [
    "target_col = 'happiness'\n",
    "train_data_copy = train_data.copy()\n",
    "target = train_data_copy[target_col]\n",
    "\n",
    "del train_data_copy[target_col]\n",
    "\n",
    "train_shape = train_data_copy.shape[0]\n",
    "\n",
    "data = pd.concat([train_data_copy, test_data],axis=0)\n",
    "# train_shape\n",
    "# target.unique()\n",
    "# data.shape"
   ]
  },
  {
   "cell_type": "code",
   "execution_count": 8,
   "metadata": {},
   "outputs": [
    {
     "name": "stdout",
     "output_type": "stream",
     "text": [
      "train shape: (8000, 140)\n"
     ]
    }
   ],
   "source": [
    "train_data = train_data[train_data[\"happiness\"]!=-8].reset_index(drop=True)#注意drop=True\n",
    "print('train shape:',train_data.shape)"
   ]
  },
  {
   "cell_type": "code",
   "execution_count": 9,
   "metadata": {},
   "outputs": [],
   "source": [
    "# 查看数据缺失信息\n",
    "# data.info(verbose=True, null_counts=True)"
   ]
  },
  {
   "cell_type": "code",
   "execution_count": 10,
   "metadata": {},
   "outputs": [],
   "source": [
    "# 处理时间序列 data['survey_time'] ---删除\n",
    "# 但可计算测试者年龄\n",
    "data['survey_time'] = pd.to_datetime(data['survey_time'],format='%Y-%m-%d %H:%M:%S')\n",
    "data['age'] = data['survey_time'].dt.year - data['birth']\n",
    "data = data.drop(['survey_time'], axis = 1)# data= data.drop(cloumns = ['survey_time])"
   ]
  },
  {
   "cell_type": "code",
   "execution_count": 11,
   "metadata": {},
   "outputs": [
    {
     "data": {
      "text/plain": [
       "(10968, 139)"
      ]
     },
     "execution_count": 11,
     "metadata": {},
     "output_type": "execute_result"
    }
   ],
   "source": [
    "data.shape"
   ]
  },
  {
   "cell_type": "code",
   "execution_count": 12,
   "metadata": {},
   "outputs": [],
   "source": [
    "# edu_other edu_status edu_yr 缺失值太多直接删除\n",
    "data = data.drop(['edu_other', 'edu_status', 'edu_yr'], axis= 1)"
   ]
  },
  {
   "cell_type": "code",
   "execution_count": 13,
   "metadata": {},
   "outputs": [],
   "source": [
    "# 入党时间 join_party\n",
    "data['join_party'] = data['join_party'].map(lambda x:0 if pd.isnull(x) else 1)\n",
    "# data['join_party']"
   ]
  },
  {
   "cell_type": "code",
   "execution_count": 14,
   "metadata": {},
   "outputs": [],
   "source": [
    "# property_other 房产登记状况\n",
    "# data.loc[data['property_other'].notnull(),'property_other']\n",
    "data['property_other'] = data['property_other'].map(lambda x:0 if pd.isnull(x) else 1)"
   ]
  },
  {
   "cell_type": "code",
   "execution_count": 15,
   "metadata": {},
   "outputs": [],
   "source": [
    "# 户口登记情况\n",
    "# data['hukou_loc'].value_counts()\n",
    "# data['hukou_loc'].value_counts().argmax() 众数\n",
    "data['hukou_loc'] = data['hukou_loc'].fillna(data['hukou_loc'].value_counts().idxmax())"
   ]
  },
  {
   "cell_type": "code",
   "execution_count": 16,
   "metadata": {},
   "outputs": [],
   "source": [
    "# social_neighbor social_friend 与邻居、朋友的 社交时长\n",
    "# data.loc[:,['social_neighbor','social_friend']]\n",
    "data['social_neighbor'] = data['social_neighbor'].fillna(data['social_neighbor'].value_counts().idxmax())\n",
    "data['social_friend'] = data['social_friend'].fillna(data['social_friend'].value_counts().idxmax())"
   ]
  },
  {
   "cell_type": "code",
   "execution_count": 17,
   "metadata": {},
   "outputs": [],
   "source": [
    "# work_... 工作状况\n",
    "# data[['work_status','work_yr','work_type','work_manage']]\n",
    "# data.loc[:,['work_status','work_yr','work_type','work_manage']]\n",
    "data['work_status'] = data['work_status'].fillna(0)\n",
    "data['work_yr']     = data['work_yr'].fillna(0)\n",
    "data['work_type']   = data['work_type'].fillna(0)\n",
    "data['work_manage'] = data['work_manage'].fillna(0)"
   ]
  },
  {
   "cell_type": "code",
   "execution_count": 18,
   "metadata": {},
   "outputs": [],
   "source": [
    "# family_income 家庭收入\n",
    "data['family_income'] = data['family_income'].fillna(data['family_income'].median())"
   ]
  },
  {
   "cell_type": "code",
   "execution_count": 19,
   "metadata": {},
   "outputs": [],
   "source": [
    "# invest_other\n",
    "# data['invest_other']\n",
    "data['invest_other'] = data['invest_other'].map(lambda x:0 if pd.isnull(x) else 1)"
   ]
  },
  {
   "cell_type": "code",
   "execution_count": 20,
   "metadata": {},
   "outputs": [],
   "source": [
    "# minor_child 有几个18岁以下的子女\n",
    "# data['minor_child'].value_counts()\n",
    "data['minor_child'] = data['minor_child'].fillna(data['minor_child'].value_counts().argmax())"
   ]
  },
  {
   "cell_type": "code",
   "execution_count": 21,
   "metadata": {},
   "outputs": [],
   "source": [
    "# marital_1st 首婚那年\n",
    "# s_brith 配偶那一年生的\n",
    "# marital_now 和目前配偶什么时候结婚\n",
    "data[['marital_1st','s_birth','marital_now']]= data[['marital_1st','s_birth','marital_now']].fillna(0)"
   ]
  },
  {
   "cell_type": "code",
   "execution_count": 22,
   "metadata": {},
   "outputs": [],
   "source": [
    "# 伴侣各方面情况 s_edu s_politicla s_hukou s_incomm ...\n",
    "data['s_edu']         = data['s_edu'].fillna(0)\n",
    "data['s_hukou']       = data['s_hukou'].fillna(0)\n",
    "data['s_income']      = data['s_income'].fillna(0)\n",
    "data['s_political']   = data['s_political'].fillna(0)\n",
    "data['s_work_exper']  = data['s_work_exper'].fillna(0)\n",
    "data['s_work_status'] = data['s_work_status'].fillna(0)\n",
    "data['s_work_type']   = data['s_work_type'].fillna(0)"
   ]
  },
  {
   "cell_type": "code",
   "execution_count": 27,
   "metadata": {},
   "outputs": [],
   "source": [
    "# data.info(verbose=True, null_counts=True)\n",
    "# data.head()"
   ]
  },
  {
   "cell_type": "code",
   "execution_count": 23,
   "metadata": {},
   "outputs": [
    {
     "name": "stdout",
     "output_type": "stream",
     "text": [
      "0.64025\n"
     ]
    }
   ],
   "source": [
    "# 划分测试集\n",
    "# Xtrian, Xtest, Ytrain, Ytest = train_test_split(data[:train_shape],target,test_size = 0.3)\n",
    "kf = KFold(n_splits = 5)\n",
    "rfc = RFC(random_state = 10)\n",
    "train_data = data[:train_shape]\n",
    "mse = []\n",
    "for train,test in kf.split(train_data):\n",
    "    Xtrain = train_data.iloc[train]\n",
    "    Ytrain = target.iloc[train]\n",
    "    Xtest  = train_data.iloc[test]\n",
    "    Ytest  = target.iloc[test]\n",
    "    rfc.fit(Xtrain, Ytrain)\n",
    "    Y_pred = rfc.predict(Xtest)\n",
    "    e = MSE(y_true = Ytest, y_pred= Y_pred)\n",
    "    mse.append(e)\n",
    "print(np.mean(mse))"
   ]
  },
  {
   "cell_type": "markdown",
   "metadata": {},
   "source": [
    "### RandomForestClassifier 预测"
   ]
  },
  {
   "cell_type": "code",
   "execution_count": 25,
   "metadata": {
    "scrolled": true
   },
   "outputs": [
    {
     "name": "stdout",
     "output_type": "stream",
     "text": [
      "0.625625 61\n"
     ]
    },
    {
     "data": {
      "image/png": "[encoded data removed]",
      "text/plain": [
       "<Figure size 1440x360 with 1 Axes>"
      ]
     },
     "metadata": {},
     "output_type": "display_data"
    }
   ],
   "source": [
    "# n_estimators 学习曲线\n",
    "mse = []\n",
    "for i  in range(0,300,10):\n",
    "    for train,test in kf.split(train_data):\n",
    "        result = []\n",
    "        rfc = RFC(n_estimators = i+1\n",
    "                  ,random_state =10)\n",
    "        Xtrain = train_data.iloc[train]\n",
    "        Ytrain = target.iloc[train]\n",
    "        Xtest  = train_data.iloc[test]\n",
    "        Ytest  = target.iloc[test]\n",
    "        rfc.fit(Xtrain, Ytrain)\n",
    "        Y_pred = rfc.predict(Xtest)\n",
    "        e = MSE(y_true = Ytest, y_pred= Y_pred)\n",
    "        result.append(e)\n",
    "    mse.append(np.mean(result))\n",
    "    \n",
    "print(min(mse), mse.index(min(mse))*10+1)\n",
    "\n",
    "plt.figure(figsize = [20,5])\n",
    "plt.plot(range(1,300,10),mse)\n",
    "plt.show()"
   ]
  },
  {
   "cell_type": "code",
   "execution_count": 42,
   "metadata": {},
   "outputs": [
    {
     "name": "stdout",
     "output_type": "stream",
     "text": [
      "0.634375 15\n"
     ]
    },
    {
     "data": {
      "image/png": "[encoded data removed]",
      "text/plain": [
       "<Figure size 1440x360 with 1 Axes>"
      ]
     },
     "metadata": {},
     "output_type": "display_data"
    }
   ],
   "source": [
    "# 调整max_depth\n",
    "mse = []\n",
    "depth = np.arange(1,30,2)\n",
    "for d in depth:\n",
    "        for train,test in kf.split(train_data):\n",
    "            result = []\n",
    "            rfc = RFC(n_estimators = 61\n",
    "                      ,random_state =10\n",
    "                      ,max_depth =d\n",
    "                     )\n",
    "            Xtrain = train_data.iloc[train]\n",
    "            Ytrain = target.iloc[train]\n",
    "            Xtest  = train_data.iloc[test]\n",
    "            Ytest  = target.iloc[test]\n",
    "            rfc.fit(Xtrain, Ytrain)\n",
    "            Y_pred = rfc.predict(Xtest)\n",
    "            e = MSE(y_true = Ytest, y_pred= Y_pred)\n",
    "            result.append(e)\n",
    "        \n",
    "        mse.append(np.mean(result))\n",
    "print(min(mse),mse.index(min(mse))*2+1)\n",
    "\n",
    "plt.figure(figsize=[20,5])\n",
    "plt.plot(range(1,30,2),mse)\n",
    "plt.show()"
   ]
  },
  {
   "cell_type": "code",
   "execution_count": 47,
   "metadata": {
    "scrolled": true
   },
   "outputs": [
    {
     "name": "stdout",
     "output_type": "stream",
     "text": [
      "0.6 34\n"
     ]
    },
    {
     "data": {
      "image/png": "[encoded data removed]",
      "text/plain": [
       "<Figure size 1440x360 with 1 Axes>"
      ]
     },
     "metadata": {},
     "output_type": "display_data"
    },
    {
     "data": {
      "image/png": "[encoded data removed]",
      "text/plain": [
       "<Figure size 1440x360 with 1 Axes>"
      ]
     },
     "metadata": {},
     "output_type": "display_data"
    }
   ],
   "source": [
    "# 调整max_features\n",
    "mse = []\n",
    "features = np.arange(11,50)\n",
    "for f in features:\n",
    "        for train,test in kf.split(train_data):\n",
    "            result = []\n",
    "            rfc = RFC(n_estimators = 61\n",
    "                      ,random_state =10\n",
    "#                       ,max_depth = d\n",
    "                      ,max_features = f\n",
    "                     )\n",
    "            Xtrain = train_data.iloc[train]\n",
    "            Ytrain = target.iloc[train]\n",
    "            Xtest  = train_data.iloc[test]\n",
    "            Ytest  = target.iloc[test]\n",
    "            rfc.fit(Xtrain, Ytrain)\n",
    "            Y_pred = rfc.predict(Xtest)\n",
    "            e = MSE(y_true = Ytest, y_pred= Y_pred)\n",
    "            result.append(e)\n",
    "        \n",
    "        mse.append(np.mean(result))\n",
    "print(min(mse),[*range(11,50)][mse.index(min(mse))])\n",
    "\n",
    "plt.figure(figsize=[20,5])\n",
    "plt.plot(range(11,50),mse)\n",
    "plt.show()"
   ]
  },
  {
   "cell_type": "code",
   "execution_count": 49,
   "metadata": {},
   "outputs": [
    {
     "name": "stdout",
     "output_type": "stream",
     "text": [
      "0.6055\n"
     ]
    }
   ],
   "source": [
    "# 调整完毕\n",
    "# n_estimators =61 max_features = 34\n",
    "kf = KFold(n_splits = 5)\n",
    "rfc = RFC(n_estimators=61\n",
    "          ,max_features = 34\n",
    "          ,random_state = 10\n",
    "         )\n",
    "train_data = data[:train_shape]\n",
    "mse = []\n",
    "for train,test in kf.split(train_data):\n",
    "    Xtrain = train_data.iloc[train]\n",
    "    Ytrain = target.iloc[train]\n",
    "    Xtest  = train_data.iloc[test]\n",
    "    Ytest  = target.iloc[test]\n",
    "    rfc.fit(Xtrain, Ytrain)\n",
    "    Y_pred = rfc.predict(Xtest)\n",
    "    e = MSE(y_true = Ytest, y_pred= Y_pred)\n",
    "    mse.append(e)\n",
    "print(np.mean(mse))"
   ]
  },
  {
   "cell_type": "code",
   "execution_count": 30,
   "metadata": {},
   "outputs": [
    {
     "data": {
      "text/html": [
       "<div>\n",
       "<style>\n",
       "    .dataframe thead tr:only-child th {\n",
       "        text-align: right;\n",
       "    }\n",
       "\n",
       "    .dataframe thead th {\n",
       "        text-align: left;\n",
       "    }\n",
       "\n",
       "    .dataframe tbody tr th {\n",
       "        vertical-align: top;\n",
       "    }\n",
       "</style>\n",
       "<table border=\"1\" class=\"dataframe\">\n",
       "  <thead>\n",
       "    <tr style=\"text-align: right;\">\n",
       "      <th></th>\n",
       "      <th>id</th>\n",
       "      <th>survey_type</th>\n",
       "      <th>province</th>\n",
       "      <th>city</th>\n",
       "      <th>county</th>\n",
       "      <th>gender</th>\n",
       "      <th>birth</th>\n",
       "      <th>nationality</th>\n",
       "      <th>religion</th>\n",
       "      <th>religion_freq</th>\n",
       "      <th>...</th>\n",
       "      <th>public_service_1</th>\n",
       "      <th>public_service_2</th>\n",
       "      <th>public_service_3</th>\n",
       "      <th>public_service_4</th>\n",
       "      <th>public_service_5</th>\n",
       "      <th>public_service_6</th>\n",
       "      <th>public_service_7</th>\n",
       "      <th>public_service_8</th>\n",
       "      <th>public_service_9</th>\n",
       "      <th>age</th>\n",
       "    </tr>\n",
       "  </thead>\n",
       "  <tbody>\n",
       "    <tr>\n",
       "      <th>0</th>\n",
       "      <td>1</td>\n",
       "      <td>1</td>\n",
       "      <td>12</td>\n",
       "      <td>32</td>\n",
       "      <td>59</td>\n",
       "      <td>1</td>\n",
       "      <td>1959</td>\n",
       "      <td>1</td>\n",
       "      <td>1</td>\n",
       "      <td>1</td>\n",
       "      <td>...</td>\n",
       "      <td>50</td>\n",
       "      <td>60.0</td>\n",
       "      <td>50</td>\n",
       "      <td>50</td>\n",
       "      <td>30.0</td>\n",
       "      <td>30</td>\n",
       "      <td>50</td>\n",
       "      <td>50</td>\n",
       "      <td>50</td>\n",
       "      <td>56</td>\n",
       "    </tr>\n",
       "    <tr>\n",
       "      <th>1</th>\n",
       "      <td>2</td>\n",
       "      <td>2</td>\n",
       "      <td>18</td>\n",
       "      <td>52</td>\n",
       "      <td>85</td>\n",
       "      <td>1</td>\n",
       "      <td>1992</td>\n",
       "      <td>1</td>\n",
       "      <td>1</td>\n",
       "      <td>1</td>\n",
       "      <td>...</td>\n",
       "      <td>90</td>\n",
       "      <td>70.0</td>\n",
       "      <td>70</td>\n",
       "      <td>80</td>\n",
       "      <td>85.0</td>\n",
       "      <td>70</td>\n",
       "      <td>90</td>\n",
       "      <td>60</td>\n",
       "      <td>60</td>\n",
       "      <td>23</td>\n",
       "    </tr>\n",
       "    <tr>\n",
       "      <th>2</th>\n",
       "      <td>3</td>\n",
       "      <td>2</td>\n",
       "      <td>29</td>\n",
       "      <td>83</td>\n",
       "      <td>126</td>\n",
       "      <td>2</td>\n",
       "      <td>1967</td>\n",
       "      <td>1</td>\n",
       "      <td>0</td>\n",
       "      <td>3</td>\n",
       "      <td>...</td>\n",
       "      <td>90</td>\n",
       "      <td>80.0</td>\n",
       "      <td>75</td>\n",
       "      <td>79</td>\n",
       "      <td>80.0</td>\n",
       "      <td>90</td>\n",
       "      <td>90</td>\n",
       "      <td>90</td>\n",
       "      <td>75</td>\n",
       "      <td>48</td>\n",
       "    </tr>\n",
       "    <tr>\n",
       "      <th>3</th>\n",
       "      <td>4</td>\n",
       "      <td>2</td>\n",
       "      <td>10</td>\n",
       "      <td>28</td>\n",
       "      <td>51</td>\n",
       "      <td>2</td>\n",
       "      <td>1943</td>\n",
       "      <td>1</td>\n",
       "      <td>1</td>\n",
       "      <td>1</td>\n",
       "      <td>...</td>\n",
       "      <td>100</td>\n",
       "      <td>90.0</td>\n",
       "      <td>70</td>\n",
       "      <td>80</td>\n",
       "      <td>80.0</td>\n",
       "      <td>90</td>\n",
       "      <td>90</td>\n",
       "      <td>80</td>\n",
       "      <td>80</td>\n",
       "      <td>72</td>\n",
       "    </tr>\n",
       "    <tr>\n",
       "      <th>4</th>\n",
       "      <td>5</td>\n",
       "      <td>1</td>\n",
       "      <td>7</td>\n",
       "      <td>18</td>\n",
       "      <td>36</td>\n",
       "      <td>2</td>\n",
       "      <td>1994</td>\n",
       "      <td>1</td>\n",
       "      <td>1</td>\n",
       "      <td>1</td>\n",
       "      <td>...</td>\n",
       "      <td>50</td>\n",
       "      <td>50.0</td>\n",
       "      <td>50</td>\n",
       "      <td>50</td>\n",
       "      <td>50.0</td>\n",
       "      <td>50</td>\n",
       "      <td>50</td>\n",
       "      <td>50</td>\n",
       "      <td>50</td>\n",
       "      <td>21</td>\n",
       "    </tr>\n",
       "  </tbody>\n",
       "</table>\n",
       "<p>5 rows × 136 columns</p>\n",
       "</div>"
      ],
      "text/plain": [
       "   id  survey_type  province  city  county  gender  birth  nationality  \\\n",
       "0   1            1        12    32      59       1   1959            1   \n",
       "1   2            2        18    52      85       1   1992            1   \n",
       "2   3            2        29    83     126       2   1967            1   \n",
       "3   4            2        10    28      51       2   1943            1   \n",
       "4   5            1         7    18      36       2   1994            1   \n",
       "\n",
       "   religion  religion_freq ...   public_service_1  public_service_2  \\\n",
       "0         1              1 ...                 50              60.0   \n",
       "1         1              1 ...                 90              70.0   \n",
       "2         0              3 ...                 90              80.0   \n",
       "3         1              1 ...                100              90.0   \n",
       "4         1              1 ...                 50              50.0   \n",
       "\n",
       "   public_service_3  public_service_4  public_service_5  public_service_6  \\\n",
       "0                50                50              30.0                30   \n",
       "1                70                80              85.0                70   \n",
       "2                75                79              80.0                90   \n",
       "3                70                80              80.0                90   \n",
       "4                50                50              50.0                50   \n",
       "\n",
       "   public_service_7  public_service_8  public_service_9  age  \n",
       "0                50                50                50   56  \n",
       "1                90                60                60   23  \n",
       "2                90                90                75   48  \n",
       "3                90                80                80   72  \n",
       "4                50                50                50   21  \n",
       "\n",
       "[5 rows x 136 columns]"
      ]
     },
     "execution_count": 30,
     "metadata": {},
     "output_type": "execute_result"
    }
   ],
   "source": [
    "data.head()"
   ]
  },
  {
   "cell_type": "code",
   "execution_count": 31,
   "metadata": {},
   "outputs": [],
   "source": [
    "# 导出预测结果\n",
    "train_data = data[:train_shape]\n",
    "test_data = data[train_shape:]\n",
    "rfc = RFC(n_estimators=61\n",
    "          ,max_features = 34\n",
    "          ,random_state = 10\n",
    "         )\n",
    "rfc.fit(train_data,target)\n",
    "predict = rfc.predict(test_data)\n",
    "result = pd.DataFrame({'id':test_data['id'],'happiness':predict},columns = ['id','happiness'],)\n",
    "result.to_csv('happiness_submit.csv',index=None)\n"
   ]
  },
  {
   "cell_type": "code",
   "execution_count": 56,
   "metadata": {},
   "outputs": [
    {
     "data": {
      "text/plain": [
       "4    2647\n",
       "5     140\n",
       "3     127\n",
       "2      50\n",
       "1       4\n",
       "Name: happiness, dtype: int64"
      ]
     },
     "execution_count": 56,
     "metadata": {},
     "output_type": "execute_result"
    }
   ],
   "source": [
    "result['happiness'].value_counts()"
   ]
  },
  {
   "cell_type": "code",
   "execution_count": null,
   "metadata": {
    "collapsed": true,
    "jupyter": {
     "outputs_hidden": true
    }
   },
   "outputs": [],
   "source": []
  }
 ],
 "metadata": {
  "kernelspec": {
   "display_name": "Python 3",
   "language": "python",
   "name": "python3"
  },
  "language_info": {
   "codemirror_mode": {
    "name": "ipython",
    "version": 3
   },
   "file_extension": ".py",
   "mimetype": "text/x-python",
   "name": "python",
   "nbconvert_exporter": "python",
   "pygments_lexer": "ipython3",
   "version": "3.6.9"
  }
 },
 "nbformat": 4,
 "nbformat_minor": 4
}
