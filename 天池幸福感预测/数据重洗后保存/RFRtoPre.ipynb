{
 "cells": [
  {
   "cell_type": "code",
   "execution_count": 25,
   "metadata": {},
   "outputs": [],
   "source": [
    "import numpy as np\n",
    "import pandas as pd\n",
    "import matplotlib.pyplot as plt\n",
    "from sklearn.preprocessing import OneHotEncoder\n",
    "from sklearn.model_selection import train_test_split\n",
    "from sklearn.model_selection import cross_val_score, GridSearchCV\n",
    "from sklearn.ensemble import RandomForestRegressor as RFR"
   ]
  },
  {
   "cell_type": "code",
   "execution_count": 2,
   "metadata": {},
   "outputs": [
    {
     "data": {
      "text/html": [
       "<div>\n",
       "<style scoped>\n",
       "    .dataframe tbody tr th:only-of-type {\n",
       "        vertical-align: middle;\n",
       "    }\n",
       "\n",
       "    .dataframe tbody tr th {\n",
       "        vertical-align: top;\n",
       "    }\n",
       "\n",
       "    .dataframe thead th {\n",
       "        text-align: right;\n",
       "    }\n",
       "</style>\n",
       "<table border=\"1\" class=\"dataframe\">\n",
       "  <thead>\n",
       "    <tr style=\"text-align: right;\">\n",
       "      <th></th>\n",
       "      <th>birth</th>\n",
       "      <th>car</th>\n",
       "      <th>city</th>\n",
       "      <th>class</th>\n",
       "      <th>class_10_after</th>\n",
       "      <th>class_10_before</th>\n",
       "      <th>class_14</th>\n",
       "      <th>county</th>\n",
       "      <th>daughter</th>\n",
       "      <th>depression</th>\n",
       "      <th>...</th>\n",
       "      <th>trust_8</th>\n",
       "      <th>trust_9</th>\n",
       "      <th>view</th>\n",
       "      <th>weight_jin</th>\n",
       "      <th>work_exper</th>\n",
       "      <th>work_manage</th>\n",
       "      <th>work_status</th>\n",
       "      <th>work_type</th>\n",
       "      <th>work_yr</th>\n",
       "      <th>age</th>\n",
       "    </tr>\n",
       "  </thead>\n",
       "  <tbody>\n",
       "    <tr>\n",
       "      <th>0</th>\n",
       "      <td>1959</td>\n",
       "      <td>2</td>\n",
       "      <td>32</td>\n",
       "      <td>3</td>\n",
       "      <td>3</td>\n",
       "      <td>3</td>\n",
       "      <td>1</td>\n",
       "      <td>59</td>\n",
       "      <td>0</td>\n",
       "      <td>5</td>\n",
       "      <td>...</td>\n",
       "      <td>3</td>\n",
       "      <td>4</td>\n",
       "      <td>4</td>\n",
       "      <td>155</td>\n",
       "      <td>1</td>\n",
       "      <td>2.0</td>\n",
       "      <td>3.0</td>\n",
       "      <td>1.0</td>\n",
       "      <td>30.0</td>\n",
       "      <td>56</td>\n",
       "    </tr>\n",
       "    <tr>\n",
       "      <th>1</th>\n",
       "      <td>1992</td>\n",
       "      <td>2</td>\n",
       "      <td>52</td>\n",
       "      <td>6</td>\n",
       "      <td>8</td>\n",
       "      <td>4</td>\n",
       "      <td>5</td>\n",
       "      <td>85</td>\n",
       "      <td>0</td>\n",
       "      <td>3</td>\n",
       "      <td>...</td>\n",
       "      <td>3</td>\n",
       "      <td>2</td>\n",
       "      <td>4</td>\n",
       "      <td>110</td>\n",
       "      <td>1</td>\n",
       "      <td>3.0</td>\n",
       "      <td>3.0</td>\n",
       "      <td>1.0</td>\n",
       "      <td>2.0</td>\n",
       "      <td>23</td>\n",
       "    </tr>\n",
       "    <tr>\n",
       "      <th>2</th>\n",
       "      <td>1967</td>\n",
       "      <td>2</td>\n",
       "      <td>83</td>\n",
       "      <td>5</td>\n",
       "      <td>6</td>\n",
       "      <td>4</td>\n",
       "      <td>3</td>\n",
       "      <td>126</td>\n",
       "      <td>2</td>\n",
       "      <td>5</td>\n",
       "      <td>...</td>\n",
       "      <td>3</td>\n",
       "      <td>3</td>\n",
       "      <td>4</td>\n",
       "      <td>122</td>\n",
       "      <td>2</td>\n",
       "      <td>0.0</td>\n",
       "      <td>0.0</td>\n",
       "      <td>0.0</td>\n",
       "      <td>0.0</td>\n",
       "      <td>48</td>\n",
       "    </tr>\n",
       "    <tr>\n",
       "      <th>3</th>\n",
       "      <td>1943</td>\n",
       "      <td>1</td>\n",
       "      <td>28</td>\n",
       "      <td>5</td>\n",
       "      <td>7</td>\n",
       "      <td>5</td>\n",
       "      <td>2</td>\n",
       "      <td>51</td>\n",
       "      <td>4</td>\n",
       "      <td>4</td>\n",
       "      <td>...</td>\n",
       "      <td>5</td>\n",
       "      <td>4</td>\n",
       "      <td>3</td>\n",
       "      <td>170</td>\n",
       "      <td>4</td>\n",
       "      <td>0.0</td>\n",
       "      <td>0.0</td>\n",
       "      <td>0.0</td>\n",
       "      <td>0.0</td>\n",
       "      <td>72</td>\n",
       "    </tr>\n",
       "    <tr>\n",
       "      <th>4</th>\n",
       "      <td>1994</td>\n",
       "      <td>1</td>\n",
       "      <td>18</td>\n",
       "      <td>1</td>\n",
       "      <td>1</td>\n",
       "      <td>1</td>\n",
       "      <td>4</td>\n",
       "      <td>36</td>\n",
       "      <td>0</td>\n",
       "      <td>3</td>\n",
       "      <td>...</td>\n",
       "      <td>4</td>\n",
       "      <td>3</td>\n",
       "      <td>3</td>\n",
       "      <td>110</td>\n",
       "      <td>6</td>\n",
       "      <td>0.0</td>\n",
       "      <td>0.0</td>\n",
       "      <td>0.0</td>\n",
       "      <td>0.0</td>\n",
       "      <td>21</td>\n",
       "    </tr>\n",
       "  </tbody>\n",
       "</table>\n",
       "<p>5 rows × 136 columns</p>\n",
       "</div>"
      ],
      "text/plain": [
       "   birth  car  city  class  class_10_after  class_10_before  class_14  county  \\\n",
       "0   1959    2    32      3               3                3         1      59   \n",
       "1   1992    2    52      6               8                4         5      85   \n",
       "2   1967    2    83      5               6                4         3     126   \n",
       "3   1943    1    28      5               7                5         2      51   \n",
       "4   1994    1    18      1               1                1         4      36   \n",
       "\n",
       "   daughter  depression  ...  trust_8  trust_9  view  weight_jin  work_exper  \\\n",
       "0         0           5  ...        3        4     4         155           1   \n",
       "1         0           3  ...        3        2     4         110           1   \n",
       "2         2           5  ...        3        3     4         122           2   \n",
       "3         4           4  ...        5        4     3         170           4   \n",
       "4         0           3  ...        4        3     3         110           6   \n",
       "\n",
       "   work_manage  work_status  work_type  work_yr  age  \n",
       "0          2.0          3.0        1.0     30.0   56  \n",
       "1          3.0          3.0        1.0      2.0   23  \n",
       "2          0.0          0.0        0.0      0.0   48  \n",
       "3          0.0          0.0        0.0      0.0   72  \n",
       "4          0.0          0.0        0.0      0.0   21  \n",
       "\n",
       "[5 rows x 136 columns]"
      ]
     },
     "execution_count": 2,
     "metadata": {},
     "output_type": "execute_result"
    }
   ],
   "source": [
    "data = pd.read_csv('data.csv')\n",
    "data.head()"
   ]
  },
  {
   "cell_type": "code",
   "execution_count": 3,
   "metadata": {},
   "outputs": [
    {
     "name": "stdout",
     "output_type": "stream",
     "text": [
      "<class 'pandas.core.frame.DataFrame'>\n",
      "RangeIndex: 10968 entries, 0 to 10967\n",
      "Columns: 136 entries, birth to age\n",
      "dtypes: float64(24), int64(112)\n",
      "memory usage: 11.4 MB\n"
     ]
    }
   ],
   "source": [
    "data.info()"
   ]
  },
  {
   "cell_type": "code",
   "execution_count": 4,
   "metadata": {},
   "outputs": [
    {
     "name": "stdout",
     "output_type": "stream",
     "text": [
      "<class 'pandas.core.frame.DataFrame'>\n",
      "RangeIndex: 10968 entries, 0 to 10967\n",
      "Columns: 136 entries, birth to age\n",
      "dtypes: float64(24), int64(112)\n",
      "memory usage: 11.4 MB\n"
     ]
    }
   ],
   "source": [
    "# 去除异常值\n",
    "data.drop_duplicates(inplace = True)\n",
    "data.index = range(data.shape[0])\n",
    "data.info()"
   ]
  },
  {
   "cell_type": "code",
   "execution_count": 5,
   "metadata": {},
   "outputs": [],
   "source": [
    "#独热编码（OneHotEncoder)\n",
    "#survey_type province city country gender nationality political health hukou hukou_loc work_type\n",
    "#work_exper work_manage work_status \n",
    "# insur_1、insur_2、insur_3、insur_4 marital\n",
    "\n",
    "\n",
    "# 身高体重指数(BMI) weight(kg)/height_cm(m)^2\n",
    "\n",
    "# income family_income  分档次\n"
   ]
  },
  {
   "cell_type": "markdown",
   "metadata": {},
   "source": [
    "### 独热编码（OneHotEncoder)"
   ]
  },
  {
   "cell_type": "code",
   "execution_count": 6,
   "metadata": {},
   "outputs": [],
   "source": [
    "X =['survey_type','province','city','county','gender','nationality'\n",
    "   ,'political','health','hukou','hukou_loc','work_type','work_exper'\n",
    "   ,'work_manage','work_status','insur_1','insur_2','insur_3','insur_4'\n",
    "   ,'marital',]"
   ]
  },
  {
   "cell_type": "code",
   "execution_count": 7,
   "metadata": {},
   "outputs": [],
   "source": [
    "# result = OneHotEncoder(categories='auto').fit_transform(data[X]).toarray()\n",
    "enc =OneHotEncoder(categories='auto').fit(data[X])\n",
    "result = enc.transform(data[X]).toarray()\n",
    "# enc.get_feature_names()\n",
    "newdata = pd.concat([data,pd.DataFrame(result)],axis =1 )\n",
    "newdata.drop(X, axis =1, inplace =True)"
   ]
  },
  {
   "cell_type": "markdown",
   "metadata": {},
   "source": [
    "### 添加身高体重指数(BMI) weight(kg)/height_cm(m)^2"
   ]
  },
  {
   "cell_type": "code",
   "execution_count": 8,
   "metadata": {},
   "outputs": [],
   "source": [
    "w = newdata['weight_jin']/2\n",
    "h = newdata['height_cm']/100\n",
    "newdata['BMI'] = w/h**2\n",
    "newdata.drop(['weight_jin','height_cm'],axis =1,inplace =True)"
   ]
  },
  {
   "cell_type": "markdown",
   "metadata": {},
   "source": [
    "### income family_income s_income(配偶收入)分档次"
   ]
  },
  {
   "cell_type": "markdown",
   "metadata": {},
   "source": [
    "#### 依据个人income 划分档次"
   ]
  },
  {
   "cell_type": "code",
   "execution_count": 9,
   "metadata": {},
   "outputs": [
    {
     "name": "stdout",
     "output_type": "stream",
     "text": [
      "<class 'pandas.core.frame.DataFrame'>\n",
      "RangeIndex: 10968 entries, 0 to 10967\n",
      "Columns: 445 entries, birth to BMI\n",
      "dtypes: float64(350), int64(95)\n",
      "memory usage: 37.2 MB\n"
     ]
    }
   ],
   "source": [
    "newdata.info()"
   ]
  },
  {
   "cell_type": "code",
   "execution_count": 10,
   "metadata": {},
   "outputs": [],
   "source": [
    "# newdata['s_income'].describe()"
   ]
  },
  {
   "cell_type": "code",
   "execution_count": 11,
   "metadata": {},
   "outputs": [],
   "source": [
    "incomes = []\n",
    "for income in newdata['income']:\n",
    "    if 0 <= income < 40000:\n",
    "        incomes.append(1)  #  困难家庭\n",
    "    elif 40000 <= income < 60000:\n",
    "        incomes.append(3)  #贫穷家庭\n",
    "    elif 60000 <= income < 100000:\n",
    "        incomes.append(4)  #小康家庭\n",
    "    elif 100000 <= income < 300000:\n",
    "        incomes.append(5)  #中产家庭\n",
    "    elif 300000 <= income < 500000:\n",
    "        incomes.append(6)  #富裕家庭\n",
    "    elif 500000 <= income:\n",
    "        incomes.append(7)  #富人家庭\n",
    "        \n",
    "newdata['income'] = pd.DataFrame(incomes)"
   ]
  },
  {
   "cell_type": "markdown",
   "metadata": {},
   "source": [
    "#### 依据特征family_income创造收入人群称呼"
   ]
  },
  {
   "cell_type": "code",
   "execution_count": 12,
   "metadata": {},
   "outputs": [],
   "source": [
    "family_incomes = []\n",
    "for income in newdata['family_income']:\n",
    "    if 0 <= income < 60000:\n",
    "        family_incomes.append(1)  #  困难家庭\n",
    "    elif 60000 <= income < 100000:\n",
    "        family_incomes.append(2)  # 贫困家庭\n",
    "    elif 100000 <= income < 300000:\n",
    "        family_incomes.append(3)  #贫穷家庭\n",
    "    elif 300000 <= income < 500000:\n",
    "        family_incomes.append(4)  #小康家庭\n",
    "    elif 500000 <= income < 1000000:\n",
    "        family_incomes.append(5)  #中产家庭\n",
    "    elif 1000000 <= income < 2000000:\n",
    "        family_incomes.append(6)  #富裕家庭\n",
    "    elif 3000000 <= income:\n",
    "        family_incomes.append(7)  #富人家庭\n",
    "        \n",
    "newdata['family_income'] = pd.DataFrame(family_incomes)"
   ]
  },
  {
   "cell_type": "markdown",
   "metadata": {},
   "source": [
    "#### 依据特征s_income创造收入人群称呼"
   ]
  },
  {
   "cell_type": "code",
   "execution_count": 13,
   "metadata": {},
   "outputs": [],
   "source": [
    "s_incomes = []\n",
    "for income in newdata['income']:\n",
    "    if 0 <= income < 20000:\n",
    "        s_incomes.append(1)  #  困难家庭\n",
    "    elif 20000 <= income < 50000:\n",
    "        s_incomes.append(3)  #贫穷家庭\n",
    "    elif 50000 <= income < 150000:\n",
    "        s_incomes.append(4)  #小康家庭\n",
    "    elif 150000 <= income < 300000:\n",
    "        s_incomes.append(5)  #中产家庭\n",
    "    elif 300000 <= income < 500000:\n",
    "        s_incomes.append(6)  #富裕家庭\n",
    "    elif 500000 <= income:\n",
    "        s_incomes.append(7)  #富人家庭\n",
    "        \n",
    "newdata['s_income'] = pd.DataFrame(s_incomes)"
   ]
  },
  {
   "cell_type": "code",
   "execution_count": 14,
   "metadata": {},
   "outputs": [
    {
     "data": {
      "text/html": [
       "<div>\n",
       "<style scoped>\n",
       "    .dataframe tbody tr th:only-of-type {\n",
       "        vertical-align: middle;\n",
       "    }\n",
       "\n",
       "    .dataframe tbody tr th {\n",
       "        vertical-align: top;\n",
       "    }\n",
       "\n",
       "    .dataframe thead th {\n",
       "        text-align: right;\n",
       "    }\n",
       "</style>\n",
       "<table border=\"1\" class=\"dataframe\">\n",
       "  <thead>\n",
       "    <tr style=\"text-align: right;\">\n",
       "      <th></th>\n",
       "      <th>birth</th>\n",
       "      <th>car</th>\n",
       "      <th>class</th>\n",
       "      <th>class_10_after</th>\n",
       "      <th>class_10_before</th>\n",
       "      <th>class_14</th>\n",
       "      <th>daughter</th>\n",
       "      <th>depression</th>\n",
       "      <th>edu</th>\n",
       "      <th>equity</th>\n",
       "      <th>...</th>\n",
       "      <th>320</th>\n",
       "      <th>321</th>\n",
       "      <th>322</th>\n",
       "      <th>323</th>\n",
       "      <th>324</th>\n",
       "      <th>325</th>\n",
       "      <th>326</th>\n",
       "      <th>327</th>\n",
       "      <th>328</th>\n",
       "      <th>BMI</th>\n",
       "    </tr>\n",
       "  </thead>\n",
       "  <tbody>\n",
       "    <tr>\n",
       "      <th>0</th>\n",
       "      <td>1959</td>\n",
       "      <td>2</td>\n",
       "      <td>3</td>\n",
       "      <td>3</td>\n",
       "      <td>3</td>\n",
       "      <td>1</td>\n",
       "      <td>0</td>\n",
       "      <td>5</td>\n",
       "      <td>11</td>\n",
       "      <td>3</td>\n",
       "      <td>...</td>\n",
       "      <td>0.0</td>\n",
       "      <td>1.0</td>\n",
       "      <td>0.0</td>\n",
       "      <td>0.0</td>\n",
       "      <td>1.0</td>\n",
       "      <td>0.0</td>\n",
       "      <td>0.0</td>\n",
       "      <td>0.0</td>\n",
       "      <td>0.0</td>\n",
       "      <td>25.019370</td>\n",
       "    </tr>\n",
       "    <tr>\n",
       "      <th>1</th>\n",
       "      <td>1992</td>\n",
       "      <td>2</td>\n",
       "      <td>6</td>\n",
       "      <td>8</td>\n",
       "      <td>4</td>\n",
       "      <td>5</td>\n",
       "      <td>0</td>\n",
       "      <td>3</td>\n",
       "      <td>12</td>\n",
       "      <td>3</td>\n",
       "      <td>...</td>\n",
       "      <td>1.0</td>\n",
       "      <td>0.0</td>\n",
       "      <td>1.0</td>\n",
       "      <td>0.0</td>\n",
       "      <td>0.0</td>\n",
       "      <td>0.0</td>\n",
       "      <td>0.0</td>\n",
       "      <td>0.0</td>\n",
       "      <td>0.0</td>\n",
       "      <td>19.031142</td>\n",
       "    </tr>\n",
       "    <tr>\n",
       "      <th>2</th>\n",
       "      <td>1967</td>\n",
       "      <td>2</td>\n",
       "      <td>5</td>\n",
       "      <td>6</td>\n",
       "      <td>4</td>\n",
       "      <td>3</td>\n",
       "      <td>2</td>\n",
       "      <td>5</td>\n",
       "      <td>4</td>\n",
       "      <td>4</td>\n",
       "      <td>...</td>\n",
       "      <td>0.0</td>\n",
       "      <td>1.0</td>\n",
       "      <td>0.0</td>\n",
       "      <td>0.0</td>\n",
       "      <td>1.0</td>\n",
       "      <td>0.0</td>\n",
       "      <td>0.0</td>\n",
       "      <td>0.0</td>\n",
       "      <td>0.0</td>\n",
       "      <td>23.828125</td>\n",
       "    </tr>\n",
       "    <tr>\n",
       "      <th>3</th>\n",
       "      <td>1943</td>\n",
       "      <td>1</td>\n",
       "      <td>5</td>\n",
       "      <td>7</td>\n",
       "      <td>5</td>\n",
       "      <td>2</td>\n",
       "      <td>4</td>\n",
       "      <td>4</td>\n",
       "      <td>3</td>\n",
       "      <td>4</td>\n",
       "      <td>...</td>\n",
       "      <td>0.0</td>\n",
       "      <td>1.0</td>\n",
       "      <td>0.0</td>\n",
       "      <td>0.0</td>\n",
       "      <td>0.0</td>\n",
       "      <td>0.0</td>\n",
       "      <td>0.0</td>\n",
       "      <td>0.0</td>\n",
       "      <td>1.0</td>\n",
       "      <td>31.992171</td>\n",
       "    </tr>\n",
       "    <tr>\n",
       "      <th>4</th>\n",
       "      <td>1994</td>\n",
       "      <td>1</td>\n",
       "      <td>1</td>\n",
       "      <td>1</td>\n",
       "      <td>1</td>\n",
       "      <td>4</td>\n",
       "      <td>0</td>\n",
       "      <td>3</td>\n",
       "      <td>12</td>\n",
       "      <td>2</td>\n",
       "      <td>...</td>\n",
       "      <td>0.0</td>\n",
       "      <td>1.0</td>\n",
       "      <td>1.0</td>\n",
       "      <td>0.0</td>\n",
       "      <td>0.0</td>\n",
       "      <td>0.0</td>\n",
       "      <td>0.0</td>\n",
       "      <td>0.0</td>\n",
       "      <td>0.0</td>\n",
       "      <td>20.202020</td>\n",
       "    </tr>\n",
       "  </tbody>\n",
       "</table>\n",
       "<p>5 rows × 445 columns</p>\n",
       "</div>"
      ],
      "text/plain": [
       "   birth  car  class  class_10_after  class_10_before  class_14  daughter  \\\n",
       "0   1959    2      3               3                3         1         0   \n",
       "1   1992    2      6               8                4         5         0   \n",
       "2   1967    2      5               6                4         3         2   \n",
       "3   1943    1      5               7                5         2         4   \n",
       "4   1994    1      1               1                1         4         0   \n",
       "\n",
       "   depression  edu  equity  ...  320  321  322  323  324  325  326  327  328  \\\n",
       "0           5   11       3  ...  0.0  1.0  0.0  0.0  1.0  0.0  0.0  0.0  0.0   \n",
       "1           3   12       3  ...  1.0  0.0  1.0  0.0  0.0  0.0  0.0  0.0  0.0   \n",
       "2           5    4       4  ...  0.0  1.0  0.0  0.0  1.0  0.0  0.0  0.0  0.0   \n",
       "3           4    3       4  ...  0.0  1.0  0.0  0.0  0.0  0.0  0.0  0.0  1.0   \n",
       "4           3   12       2  ...  0.0  1.0  1.0  0.0  0.0  0.0  0.0  0.0  0.0   \n",
       "\n",
       "         BMI  \n",
       "0  25.019370  \n",
       "1  19.031142  \n",
       "2  23.828125  \n",
       "3  31.992171  \n",
       "4  20.202020  \n",
       "\n",
       "[5 rows x 445 columns]"
      ]
     },
     "execution_count": 14,
     "metadata": {},
     "output_type": "execute_result"
    }
   ],
   "source": [
    "newdata.head()"
   ]
  },
  {
   "cell_type": "code",
   "execution_count": 15,
   "metadata": {},
   "outputs": [],
   "source": [
    "train_data = newdata[:8000]\n",
    "train_data_copy = train_data.copy()\n",
    "target = train_data_copy['happiness']\n",
    "del train_data_copy['happiness']"
   ]
  },
  {
   "cell_type": "code",
   "execution_count": 16,
   "metadata": {},
   "outputs": [
    {
     "name": "stdout",
     "output_type": "stream",
     "text": [
      "<class 'pandas.core.frame.DataFrame'>\n",
      "RangeIndex: 8000 entries, 0 to 7999\n",
      "Columns: 444 entries, birth to BMI\n",
      "dtypes: float64(350), int64(94)\n",
      "memory usage: 27.1 MB\n"
     ]
    }
   ],
   "source": [
    "train_data_copy.info()"
   ]
  },
  {
   "cell_type": "code",
   "execution_count": 18,
   "metadata": {},
   "outputs": [
    {
     "data": {
      "text/plain": [
       "-0.4801446875"
      ]
     },
     "execution_count": 18,
     "metadata": {},
     "output_type": "execute_result"
    }
   ],
   "source": [
    "# Xtrain, Xtest, Ytrain, Ytest = train_test_split(train_data_copy,target,test_size= 0.3)\n",
    "rfr = RFR(random_state=100\n",
    "         ,n_jobs = -1\n",
    "         )\n",
    "mse=cross_val_score(rfr, train_data_copy[:8000], target, cv=10, scoring='neg_mean_squared_error').mean()\n",
    "mse"
   ]
  },
  {
   "cell_type": "code",
   "execution_count": 20,
   "metadata": {},
   "outputs": [
    {
     "name": "stdout",
     "output_type": "stream",
     "text": [
      "-0.4795946999808119 191\n"
     ]
    },
    {
     "data": {
      "image/png": "[encoded data removed]",
      "text/plain": [
       "<Figure size 1440x360 with 1 Axes>"
      ]
     },
     "metadata": {
      "needs_background": "light"
     },
     "output_type": "display_data"
    }
   ],
   "source": [
    "# 调整n_estimators\n",
    "mse = []\n",
    "for i in range(1,200,10):\n",
    "    rfr = RFR(n_estimators=i\n",
    "              ,criterion = 'mse'# 默认mse均方误差，父节点和叶子节点之间的均方误差作为特征选择的标准 另有friedman_mse”、mae\n",
    "              ,random_state=100\n",
    "              ,n_jobs=-1        #cpu核并行运算\n",
    "             ) \n",
    "    mse1=cross_val_score(rfr, train_data_copy[:8000], target, cv=5, scoring='neg_mean_squared_error').mean()\n",
    "    mse.append(mse1)\n",
    "    \n",
    "print(max(mse),(mse.index(max(mse))*10)+1)\n",
    "plt.figure(figsize=[20,5])\n",
    "plt.xlabel('n_estimators')\n",
    "plt.ylabel('mse')\n",
    "plt.plot(range(1,200,10),[-i for i in mse])\n",
    "plt.show()"
   ]
  },
  {
   "cell_type": "code",
   "execution_count": 22,
   "metadata": {},
   "outputs": [
    {
     "name": "stdout",
     "output_type": "stream",
     "text": [
      "-0.47956747832156577 193\n"
     ]
    },
    {
     "data": {
      "image/png": "[encoded data removed]",
      "text/plain": [
       "<Figure size 1440x360 with 1 Axes>"
      ]
     },
     "metadata": {
      "needs_background": "light"
     },
     "output_type": "display_data"
    }
   ],
   "source": [
    "# 细化n_estimators\n",
    "mse = []\n",
    "for i in range(185,195):\n",
    "    rfr = RFR(n_estimators=i\n",
    "              ,criterion = 'mse'# 默认mse均方误差，父节点和叶子节点之间的均方误差作为特征选择的标准 另有friedman_mse”、mae\n",
    "              ,random_state=100\n",
    "              ,n_jobs=-1        #cpu核并行运算\n",
    "             ) \n",
    "    mse1=cross_val_score(rfr, train_data_copy[:8000], target, cv=5, scoring='neg_mean_squared_error').mean()\n",
    "    mse.append(mse1)\n",
    "    \n",
    "print(max(mse),[*range(185,195)][mse.index(max(mse))])\n",
    "plt.figure(figsize=[20,5])\n",
    "plt.xlabel('n_estimators')\n",
    "plt.ylabel('mse')\n",
    "plt.plot(range(185,195),[-i for i in mse])\n",
    "plt.show()"
   ]
  },
  {
   "cell_type": "code",
   "execution_count": 26,
   "metadata": {},
   "outputs": [
    {
     "data": {
      "text/plain": [
       "GridSearchCV(cv=5, error_score=nan,\n",
       "             estimator=RandomForestRegressor(bootstrap=True, ccp_alpha=0.0,\n",
       "                                             criterion='mse', max_depth=None,\n",
       "                                             max_features='auto',\n",
       "                                             max_leaf_nodes=None,\n",
       "                                             max_samples=None,\n",
       "                                             min_impurity_decrease=0.0,\n",
       "                                             min_impurity_split=None,\n",
       "                                             min_samples_leaf=1,\n",
       "                                             min_samples_split=2,\n",
       "                                             min_weight_fraction_leaf=0.0,\n",
       "                                             n_estimators=193, n_jobs=-1,\n",
       "                                             oob_score=False, random_state=0,\n",
       "                                             verbose=0, warm_start=False),\n",
       "             iid='deprecated', n_jobs=None,\n",
       "             param_grid={'max_depth': array([ 1,  2,  3,  4,  5,  6,  7,  8,  9, 10, 11, 12, 13, 14, 15, 16, 17,\n",
       "       18, 19, 20, 21, 22, 23, 24, 25, 26, 27, 28, 29])},\n",
       "             pre_dispatch='2*n_jobs', refit=True, return_train_score=False,\n",
       "             scoring='neg_mean_squared_error', verbose=0)"
      ]
     },
     "execution_count": 26,
     "metadata": {},
     "output_type": "execute_result"
    }
   ],
   "source": [
    "# 调整max_depth\n",
    "param_grid = {'max_depth':np.arange(1,30)}\n",
    "\n",
    "rfr = RFR(n_estimators= 193\n",
    "          ,criterion = 'mse'# 默认mse均方误差，父节点和叶子节点之间的均方误差作为特征选择的标准 另有friedman_mse”、mae\n",
    "          ,random_state=0\n",
    "          ,n_jobs=-1        #cpu核并行运算\n",
    "          )\n",
    "\n",
    "Gs = GridSearchCV(rfr,param_grid, scoring= 'neg_mean_squared_error', cv=5)\n",
    "Gs.fit(train_data_copy[:8000], target)"
   ]
  },
  {
   "cell_type": "code",
   "execution_count": 27,
   "metadata": {},
   "outputs": [
    {
     "name": "stdout",
     "output_type": "stream",
     "text": [
      "{'max_depth': 20} -0.48009151385457055\n"
     ]
    }
   ],
   "source": [
    "print(Gs.best_params_,Gs.best_score_)"
   ]
  },
  {
   "cell_type": "code",
   "execution_count": 29,
   "metadata": {},
   "outputs": [
    {
     "data": {
      "text/plain": [
       "GridSearchCV(cv=5, error_score=nan,\n",
       "             estimator=RandomForestRegressor(bootstrap=True, ccp_alpha=0.0,\n",
       "                                             criterion='mse', max_depth=None,\n",
       "                                             max_features='auto',\n",
       "                                             max_leaf_nodes=None,\n",
       "                                             max_samples=None,\n",
       "                                             min_impurity_decrease=0.0,\n",
       "                                             min_impurity_split=None,\n",
       "                                             min_samples_leaf=1,\n",
       "                                             min_samples_split=2,\n",
       "                                             min_weight_fraction_leaf=0.0,\n",
       "                                             n_estimators=193, n_jobs=-1,\n",
       "                                             oob_score=False, random_state=100,\n",
       "                                             verbose=0, warm_start=False),\n",
       "             iid='deprecated', n_jobs=None,\n",
       "             param_grid={'max_features': array([11, 13, 15, 17, 19, 21, 23, 25, 27, 29, 31, 33, 35, 37, 39, 41, 43,\n",
       "       45, 47, 49])},\n",
       "             pre_dispatch='2*n_jobs', refit=True, return_train_score=False,\n",
       "             scoring='neg_mean_squared_error', verbose=0)"
      ]
     },
     "execution_count": 29,
     "metadata": {},
     "output_type": "execute_result"
    }
   ],
   "source": [
    "# 调整 max_features\n",
    "param_grid = {'max_features':np.arange(11,50,2)}\n",
    "\n",
    "rfr = RFR(n_estimators= 193\n",
    "#           ,max_depth =20\n",
    "          ,criterion = 'mse'# 默认mse均方误差，父节点和叶子节点之间的均方误差作为特征选择的标准 另有friedman_mse”、mae\n",
    "          ,random_state= 100\n",
    "          ,n_jobs=-1        #cpu核并行运算\n",
    "          )\n",
    "Gs = GridSearchCV(rfr,param_grid, scoring= 'neg_mean_squared_error', cv=5)\n",
    "Gs.fit(train_data_copy[:8000], target)"
   ]
  },
  {
   "cell_type": "code",
   "execution_count": 30,
   "metadata": {},
   "outputs": [
    {
     "name": "stdout",
     "output_type": "stream",
     "text": [
      "{'max_features': 47} -0.48350054363875544\n"
     ]
    }
   ],
   "source": [
    "print(Gs.best_params_,Gs.best_score_)"
   ]
  },
  {
   "cell_type": "code",
   "execution_count": null,
   "metadata": {},
   "outputs": [],
   "source": []
  }
 ],
 "metadata": {
  "kernelspec": {
   "display_name": "Python 3",
   "language": "python",
   "name": "python3"
  },
  "language_info": {
   "codemirror_mode": {
    "name": "ipython",
    "version": 3
   },
   "file_extension": ".py",
   "mimetype": "text/x-python",
   "name": "python",
   "nbconvert_exporter": "python",
   "pygments_lexer": "ipython3",
   "version": "3.6.9"
  }
 },
 "nbformat": 4,
 "nbformat_minor": 4
}
