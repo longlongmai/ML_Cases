{
 "cells": [
  {
   "cell_type": "code",
   "execution_count": 8,
   "metadata": {
    "collapsed": true
   },
   "outputs": [],
   "source": [
    "import numpy as np\n",
    "import pandas as pd"
   ]
  },
  {
   "cell_type": "code",
   "execution_count": 9,
   "metadata": {
    "collapsed": true
   },
   "outputs": [],
   "source": [
    "# 导入数据\n",
    "data = pd.read_csv('titanic_train.csv')\n",
    "# data.head()\n",
    "# data.info()\n",
    "# data.describe()"
   ]
  },
  {
   "cell_type": "code",
   "execution_count": 10,
   "metadata": {
    "collapsed": true
   },
   "outputs": [],
   "source": [
    "# 缺失项处理（describe中看到Age cabin Embarked 有缺失）\n",
    "data['Age'] = data['Age'].fillna(data['Age'].median())\n",
    "data.loc[data[\"Sex\"] == 'male','Sex' ] = 0\n",
    "data.loc[data[\"Sex\"] == 'female', 'Sex'] =1\n",
    "\n",
    "# print(data['Embarked'].unique())\n",
    "# print(data['Embarked'].value_counts().argmax())\n",
    "# # .argmax() 和idxmax()用于获得series最大值的索引值\n",
    "data['Embarked'] = data['Embarked'].fillna(data['Embarked'].value_counts().idxmax())\n",
    "# data.loc[data['Embarked']=='S','Embarked'] = 0\n",
    "\n",
    "data['Embarked'].replace('S',0, inplace = True)\n",
    "data['Embarked'].replace('C',1, inplace = True)\n",
    "data['Embarked'].replace('Q',2, inplace = True)\n",
    "# data.head()"
   ]
  },
  {
   "cell_type": "markdown",
   "metadata": {},
   "source": [
    "### 线性回归法预测"
   ]
  },
  {
   "cell_type": "code",
   "execution_count": 11,
   "metadata": {
    "collapsed": true
   },
   "outputs": [],
   "source": [
    "#导入线性回归模型\n",
    "from sklearn.linear_model import LinearRegression\n",
    "#导入交叉验证函数\n",
    "from sklearn.model_selection import KFold\n",
    "from sklearn.model_selection import cross_val_score"
   ]
  },
  {
   "cell_type": "code",
   "execution_count": 18,
   "metadata": {
    "collapsed": true,
    "scrolled": true
   },
   "outputs": [],
   "source": [
    "# 作为训练数据的标签列\n",
    "predictors = [\"Pclass\", \"Sex\", \"Age\", \"SibSp\", \"Parch\", \"Fare\", \"Embarked\"]\n",
    "\n",
    "# 初始化\n",
    "model = LinearRegression()\n",
    "#3 folds的交叉验证\n",
    "kf = KFold(n_splits = 3)\n",
    "\n",
    "predictions = []\n",
    "for train, test in kf.split(data):#split 之后train，test 分别是代表训练、测试数据的索引\n",
    "    # print(train)\n",
    "    # The predictors we're using the train the algorithm.  Note how we only take the rows in the train folds.\n",
    "    train_predictors = (data[predictors].iloc[train,:])\n",
    "    # The target we're using to train the algorithm.\n",
    "    train_target = data[\"Survived\"].iloc[train]\n",
    "    # Training the algorithm using the predictors and target.\n",
    "    model.fit(train_predictors, train_target)\n",
    "    \n",
    "    # We can now make predictions on the test fold\n",
    "    test_predictions = model.predict(data[predictors].iloc[test,:])\n",
    "    predictions.append(test_predictions)\n",
    "    \n",
    "    \n",
    "    #print(presictions)\n",
    "    #print(data[predictors].iloc[test].index)# 3 folds 即是将891个样本三等份，每次化一份（297个样本）做测试集\n",
    "\n"
   ]
  },
  {
   "cell_type": "code",
   "execution_count": 19,
   "metadata": {
    "scrolled": true
   },
   "outputs": [
    {
     "name": "stdout",
     "output_type": "stream",
     "text": [
      "0.7833894500561167\n"
     ]
    }
   ],
   "source": [
    "# 观测训练的正确率和评分\n",
    "# The predictions are in three separate numpy arrays.  Concatenate them into one.  \n",
    "# We concatenate them on axis 0, as they only have one axis.\n",
    "predictions = np.concatenate(predictions, axis=0)\n",
    "\n",
    "# print(predictions.shape)\n",
    "# Map predictions to outcomes (only possible outcomes are 1 and 0)\n",
    "\n",
    "predictions[predictions > .5]  = 1\n",
    "predictions[predictions <= .5] = 0\n",
    "# print(sum(predictions==data['Survived']))\n",
    "accuracy = sum(predictions == data[\"Survived\"].values) / len(predictions)\n",
    "print(accuracy)\n",
    "\n"
   ]
  },
  {
   "cell_type": "code",
   "execution_count": 137,
   "metadata": {
    "collapsed": true
   },
   "outputs": [],
   "source": [
    "# 预测集进行预测\n",
    "# 导入test,对数据进行和训练集一样的操作（也可之前tran和test数据集合并后操作）\n",
    "test = pd.read_csv('test.csv')\n",
    "# 缺失项处理（describe中看到Age cabin Embarked 有缺失）\n",
    "\n",
    "test['Fare'] =test['Fare'].fillna(test['Fare'].median())\n",
    "test['Age'] = test['Age'].fillna(test['Age'].median())\n",
    "test.loc[test[\"Sex\"] == 'male','Sex' ] = 0\n",
    "test.loc[test[\"Sex\"] == 'female', 'Sex'] =1\n",
    "\n",
    "# print(data['Embarked'].unique())\n",
    "# print(data['Embarked'].value_counts().argmax())\n",
    "# # .argmax() 和idxmax()用于获得series最大值的索引值\n",
    "test['Embarked'] = test['Embarked'].fillna(test['Embarked'].value_counts().idxmax())\n",
    "# data.loc[data['Embarked']=='S','Embarked'] = 0\n",
    "\n",
    "test['Embarked'].replace('S',0, inplace = True)\n",
    "test['Embarked'].replace('C',1, inplace = True)\n",
    "test['Embarked'].replace('Q',2, inplace = True)\n",
    "# test[predictors].info()\n",
    "\n",
    "model1 = LinearRegression()\n",
    "model.fit(data[predictors], data['Survived'])\n",
    "\n",
    "test_predict = model.predict(test[predictors])\n",
    "submisson = pd.DataFrame({'PassengerId':test['PassengerId'], 'Survived': test_predict})\n",
    "submisson.to_csv('test_predict.csv',index =None)"
   ]
  },
  {
   "cell_type": "code",
   "execution_count": 116,
   "metadata": {
    "collapsed": true
   },
   "outputs": [],
   "source": [
    "# # 对test.csv 预测\n",
    "# data = pd.read_csv('test.csv')\n",
    "\n",
    "# # 缺失项处理（describe中看到Age cabin Embarked 有缺失）\n",
    "# data['Age'] = data['Age'].fillna(data['Age'].median())\n",
    "# data.loc[data[\"Sex\"] == 'male','Sex' ] = 0\n",
    "# data.loc[data[\"Sex\"] == 'female', 'Sex'] =1\n",
    "\n",
    "# # print(data['Embarked'].unique())\n",
    "# # print(data['Embarked'].value_counts().argmax())\n",
    "# # # .argmax() 和idxmax()用于获得series最大值的索引值\n",
    "# data['Embarked'] = data['Embarked'].fillna(data['Embarked'].value_counts().idxmax())\n",
    "# # data.loc[data['Embarked']=='S','Embarked'] = 0\n",
    "\n",
    "# data['Embarked'].replace('S',0, inplace = True)\n",
    "# data['Embarked'].replace('C',1, inplace = True)\n",
    "# data['Embarked'].replace('Q',2, inplace = True)\n",
    "# data.head()\n",
    "\n",
    "# # predictors = [\"Pclass\", \"Sex\", \"Age\", \"SibSp\", \"Parch\", \"Fare\", \"Embarked\"]\n",
    "# # test_predictions = model.predict(data[predictors])\n",
    "\n",
    "# # test_predictions.shape\n",
    "\n"
   ]
  }
 ],
 "metadata": {
  "kernelspec": {
   "display_name": "Python 3",
   "language": "python",
   "name": "python3"
  },
  "language_info": {
   "codemirror_mode": {
    "name": "ipython",
    "version": 3
   },
   "file_extension": ".py",
   "mimetype": "text/x-python",
   "name": "python",
   "nbconvert_exporter": "python",
   "pygments_lexer": "ipython3",
   "version": "3.6.9"
  }
 },
 "nbformat": 4,
 "nbformat_minor": 2
}
